{
 "cells": [
  {
   "cell_type": "code",
   "execution_count": 43,
   "metadata": {},
   "outputs": [],
   "source": [
    "import json\n",
    "animation='{\"objects\":{\"objectname\":[\"a\",\"b\",\"c\",\"d\",\"e\"],\"type\":\"block\"},\"block\":{\"name\":false,\"prefab\":\"block\",\"isShowName\":true,\"x\":false,\"y\":false,\"color\":\"randomcolor\",\"width\":80,\"height\":40}}'"
   ]
  },
  {
   "cell_type": "code",
   "execution_count": 44,
   "metadata": {
    "collapsed": true
   },
   "outputs": [],
   "source": [
    "animation=json.loads(animation)"
   ]
  },
  {
   "cell_type": "code",
   "execution_count": 45,
   "metadata": {},
   "outputs": [
    {
     "name": "stdout",
     "output_type": "stream",
     "text": [
      "{'objects': {'objectname': ['a', 'b', 'c', 'd', 'e'], 'type': 'block'}, 'block': [{'name': False}, {'prefab': 'block'}, {'isShowName': True}, {'x': False}, {'y': False}, {'color': 'randomcolor'}, {'width': 80}, {'height': 40}]}\n"
     ]
    }
   ],
   "source": [
    "print(jsondata)"
   ]
  },
  {
   "cell_type": "code",
   "execution_count": 46,
   "metadata": {},
   "outputs": [
    {
     "name": "stdout",
     "output_type": "stream",
     "text": [
      "{'r': 0.3, 'g': 0.3, 'b': 0.5, 'a': 1.0}\n"
     ]
    }
   ],
   "source": [
    "import random\n",
    "def randomColor():\n",
    "    r=round(random.random(),1)\n",
    "    g=round(random.random(),1)\n",
    "    b=round(random.random(),1)\n",
    "    a=1.0\n",
    "    return {\"r\":r,\"g\":g,\"b\":b,\"a\":a}\n",
    "print(randomColor())"
   ]
  },
  {
   "cell_type": "code",
   "execution_count": 47,
   "metadata": {},
   "outputs": [],
   "source": [
    "objectlist={}\n",
    "for object in animation[\"objects\"][\"objectname\"]:\n",
    "    objectlist[object]={}\n",
    "    objtype=animation[\"objects\"][\"type\"]\n",
    "    for property in animation[objtype]:\n",
    "        value=animation[objtype][property]\n",
    "        if value is not False:\n",
    "            if value ==\"randomcolor\":\n",
    "                objectlist[object][property]=randomColor()\n",
    "                continue\n",
    "            objectlist[object][property]=value\n",
    "        else:\n",
    "            objectlist[object][property]=False\n",
    "    objectlist[object][\"name\"]=object"
   ]
  },
  {
   "cell_type": "code",
   "execution_count": null,
   "metadata": {
    "collapsed": true
   },
   "outputs": [],
   "source": []
  },
  {
   "cell_type": "code",
   "execution_count": 48,
   "metadata": {},
   "outputs": [
    {
     "name": "stdout",
     "output_type": "stream",
     "text": [
      "{'a': {'name': 'a', 'prefab': 'block', 'isShowName': True, 'x': False, 'y': False, 'color': {'r': 1.0, 'g': 0.7, 'b': 0.8, 'a': 1.0}, 'width': 80, 'height': 40}, 'b': {'name': 'b', 'prefab': 'block', 'isShowName': True, 'x': False, 'y': False, 'color': {'r': 0.4, 'g': 0.2, 'b': 0.4, 'a': 1.0}, 'width': 80, 'height': 40}, 'c': {'name': 'c', 'prefab': 'block', 'isShowName': True, 'x': False, 'y': False, 'color': {'r': 0.9, 'g': 0.3, 'b': 0.3, 'a': 1.0}, 'width': 80, 'height': 40}, 'd': {'name': 'd', 'prefab': 'block', 'isShowName': True, 'x': False, 'y': False, 'color': {'r': 0.1, 'g': 0.8, 'b': 0.1, 'a': 1.0}, 'width': 80, 'height': 40}, 'e': {'name': 'e', 'prefab': 'block', 'isShowName': True, 'x': False, 'y': False, 'color': {'r': 0.2, 'g': 0.5, 'b': 0.5, 'a': 1.0}, 'width': 80, 'height': 40}}\n"
     ]
    }
   ],
   "source": [
    "print(objectlist)"
   ]
  },
  {
   "cell_type": "code",
   "execution_count": 49,
   "metadata": {
    "collapsed": true
   },
   "outputs": [],
   "source": [
    "\n",
    "def initalspace(size):\n",
    "    array=[]\n",
    "    for i in range(size):\n",
    "        array.append(i)\n",
    "    return array\n",
    "space = initalspace(5)\n",
    "\n",
    "def distribute(obj,space,spacebtw,width,remove):\n",
    "    if not remove:\n",
    "        if obj in space:\n",
    "            objindex=space.index(obj)\n",
    "            return objindex*(width+spacebtw)\n",
    "        else:\n",
    "            for num in range(len(space)):\n",
    "                if num==space[num]:\n",
    "                    space[num]=obj\n",
    "                    return num*(width+spacebtw)\n",
    "    else:\n",
    "        if obj in space:\n",
    "            objindex=space.index(obj)\n",
    "            space[objindex]=objindex\n",
    "            return True\n",
    "        else:\n",
    "            return False"
   ]
  },
  {
   "cell_type": "code",
   "execution_count": 50,
   "metadata": {
    "collapsed": true
   },
   "outputs": [],
   "source": [
    "animationp={\n",
    "  \"on\": {\n",
    "    \"numvar\": 2,\n",
    "    \"rules\": [\n",
    "      \"rule1\",\n",
    "      \"rule2\"\n",
    "    ],\n",
    "    \"rule1\": {\n",
    "      \"0\": \"x\",\n",
    "      \"1\": \"x\",\n",
    "      \"value\": {\n",
    "        \"equal\": \"1\"\n",
    "      }\n",
    "    },\n",
    "    \"rule2\": {\n",
    "      \"0\": \"y\",\n",
    "      \"1\": \"y\",\n",
    "      \"value\": {\n",
    "        \"add\": [\n",
    "          \"1\",\n",
    "          50\n",
    "        ]\n",
    "      }\n",
    "    }\n",
    "  },\n",
    "  \"on-table\": {\n",
    "    \"predictes\": \"on-table\",\n",
    "    \"numvar\": 1,\n",
    "    \"rules\": [\n",
    "      \"rule1\",\n",
    "      \"rule2\"\n",
    "    ],\n",
    "    \"rule1\": {\n",
    "      \"0\": \"x\",\n",
    "      \"value\": {\n",
    "        \"function\": \"distributex\"\n",
    "      }\n",
    "    },\n",
    "    \"rule2\": {\n",
    "      \"0\": \"y\",\n",
    "      \"value\": {\n",
    "        \"equal\": 0\n",
    "      }\n",
    "    }\n",
    "  },\n",
    "  \"holding\": {\n",
    "    \"rules\": [\n",
    "      \"rule1\",\n",
    "      \"rule2\"\n",
    "    ],\n",
    "    \"rule1\": {\n",
    "      \"0\": \"y\",\n",
    "      \"value\": {\n",
    "        \"equal\": 480\n",
    "      }\n",
    "    },\n",
    "    \"rule2\": {\n",
    "      \"0\": \"x\",\n",
    "      \"value\": {\n",
    "        \"equal\": 250\n",
    "      }\n",
    "    }\n",
    "  }\n",
    "}"
   ]
  },
  {
   "cell_type": "code",
   "execution_count": 51,
   "metadata": {
    "collapsed": true
   },
   "outputs": [],
   "source": [
    "predicates=[\n",
    "         {\"name\":\"on-table\",\"objectNames\":[\"a\"]},\n",
    "         {\"name\":\"on-table\",\"objectNames\":[\"d\"]},\n",
    "         {\"name\":\"clear\",\"objectNames\":[\"b\"]},\n",
    "         {\"name\":\"clear\",\"objectNames\":[\"c\"]},\n",
    "         {\"name\":\"clear\",\"objectNames\":[\"e\"]},\n",
    "         {\"name\":\"on\",\"objectNames\":[\"b\",\"d\"]},\n",
    "         {\"name\":\"on\",\"objectNames\":[\"c\",\"a\"]},\n",
    "         {\"name\":\"on\",\"objectNames\":[\"e\",\"c\"]},\n",
    "         {\"name\":\"arm-free\",\"objectNames\":[]}         \n",
    "      ]"
   ]
  },
  {
   "cell_type": "code",
   "execution_count": 52,
   "metadata": {
    "collapsed": true
   },
   "outputs": [],
   "source": [
    "def check_rule_complete(predicate):\n",
    "    predicatename=predicate[\"name\"]\n",
    "    objectnamelist=predicate[\"objectNames\"]\n",
    "    predicate_rule=animationp[predicatename]\n",
    "    for rulename in predicate_rule[\"rules\"]:\n",
    "        rule=predicate_rule[rulename]\n",
    "        for key in rule:\n",
    "            #0 is on the left side of equation\n",
    "            if key != \"value\" and key !=\"0\":\n",
    "                property_check=rule[key]\n",
    "                objectname=objectnamelist[int(key)]\n",
    "                if objectlist[objectname][property_check] is False:\n",
    "                    return False\n",
    "    return True"
   ]
  },
  {
   "cell_type": "code",
   "execution_count": 53,
   "metadata": {},
   "outputs": [
    {
     "name": "stdout",
     "output_type": "stream",
     "text": [
      "True\n",
      "False\n"
     ]
    }
   ],
   "source": [
    "print(check_rule_complete({\"name\":\"on-table\",\"objectNames\":[\"b\"]}))\n",
    "print(check_rule_complete({\"name\":\"on\",\"objectNames\":[\"a\",\"b\"]}))"
   ]
  },
  {
   "cell_type": "code",
   "execution_count": 54,
   "metadata": {
    "collapsed": true
   },
   "outputs": [],
   "source": [
    "def applypredicates(predicate):\n",
    "    pname=predicate[\"name\"]\n",
    "    objects=predicate[\"objectNames\"]\n",
    "    left=objects[0]\n",
    "    for rulename in animationp[pname][\"rules\"]:\n",
    "        propertyname=animationp[pname][rulename][\"0\"]\n",
    "        value=animationp[pname][rulename][\"value\"]\n",
    "        rule=animationp[pname][rulename]\n",
    "        if \"function\" in value:\n",
    "            if value[\"function\"]==\"distributex\":\n",
    "                objectlist[left][propertyname]=distribute(left,space,20,80,False)\n",
    "        elif \"equal\" in value:\n",
    "            right_value=value[\"equal\"]\n",
    "            if right_value in rule:\n",
    "                right_proterpy=rule[right_value]\n",
    "                right_object=objects[int(right_value)]\n",
    "                objectlist[left][propertyname]=objectlist[right_object][right_proterpy]\n",
    "            else:\n",
    "                objectlist[left][propertyname]=right_value\n",
    "                \n",
    "        elif \"add\" in value:\n",
    "            rightvalue=0\n",
    "            for additem in value[\"add\"]:\n",
    "                if additem in rule:\n",
    "                    right_property=rule[additem]\n",
    "                    right_object=objects[int(additem)]\n",
    "                    addvalue=objectlist[right_object][right_property]\n",
    "                    rightvalue+=addvalue\n",
    "                else:\n",
    "                    rightvalue+=additem\n",
    "            objectlist[left][propertyname]=rightvalue"
   ]
  },
  {
   "cell_type": "code",
   "execution_count": 55,
   "metadata": {},
   "outputs": [
    {
     "data": {
      "text/plain": [
       "True"
      ]
     },
     "execution_count": 55,
     "metadata": {},
     "output_type": "execute_result"
    }
   ],
   "source": [
    "def solvepredicates(predicates):\n",
    "    while (len(predicates)>0):\n",
    "        predicate=predicates.pop(0)\n",
    "        if predicate[\"name\"] not in animationp:\n",
    "            continue\n",
    "        if check_rule_complete(predicate):\n",
    "            applypredicates(predicate)\n",
    "        else:\n",
    "            if len(predicates)==0:\n",
    "                return False\n",
    "            predicates.append(predicate)\n",
    "    return True\n",
    "solvepredicates(predicates)\n"
   ]
  },
  {
   "cell_type": "code",
   "execution_count": 56,
   "metadata": {},
   "outputs": [
    {
     "name": "stdout",
     "output_type": "stream",
     "text": [
      "{'a': {'name': 'a', 'prefab': 'block', 'isShowName': True, 'x': 0, 'y': 0, 'color': {'r': 1.0, 'g': 0.7, 'b': 0.8, 'a': 1.0}, 'width': 80, 'height': 40}, 'b': {'name': 'b', 'prefab': 'block', 'isShowName': True, 'x': 100, 'y': 50, 'color': {'r': 0.4, 'g': 0.2, 'b': 0.4, 'a': 1.0}, 'width': 80, 'height': 40}, 'c': {'name': 'c', 'prefab': 'block', 'isShowName': True, 'x': 0, 'y': 50, 'color': {'r': 0.9, 'g': 0.3, 'b': 0.3, 'a': 1.0}, 'width': 80, 'height': 40}, 'd': {'name': 'd', 'prefab': 'block', 'isShowName': True, 'x': 100, 'y': 0, 'color': {'r': 0.1, 'g': 0.8, 'b': 0.1, 'a': 1.0}, 'width': 80, 'height': 40}, 'e': {'name': 'e', 'prefab': 'block', 'isShowName': True, 'x': 0, 'y': 100, 'color': {'r': 0.2, 'g': 0.5, 'b': 0.5, 'a': 1.0}, 'width': 80, 'height': 40}}\n"
     ]
    }
   ],
   "source": [
    "print(objectlist)"
   ]
  },
  {
   "cell_type": "code",
   "execution_count": null,
   "metadata": {
    "collapsed": true
   },
   "outputs": [],
   "source": [
    "\n",
    "    "
   ]
  },
  {
   "cell_type": "code",
   "execution_count": null,
   "metadata": {
    "collapsed": true
   },
   "outputs": [],
   "source": []
  },
  {
   "cell_type": "code",
   "execution_count": null,
   "metadata": {
    "collapsed": true
   },
   "outputs": [],
   "source": []
  },
  {
   "cell_type": "code",
   "execution_count": null,
   "metadata": {
    "collapsed": true
   },
   "outputs": [],
   "source": []
  },
  {
   "cell_type": "code",
   "execution_count": null,
   "metadata": {
    "collapsed": true
   },
   "outputs": [],
   "source": []
  },
  {
   "cell_type": "code",
   "execution_count": null,
   "metadata": {
    "collapsed": true
   },
   "outputs": [],
   "source": []
  },
  {
   "cell_type": "code",
   "execution_count": null,
   "metadata": {
    "collapsed": true
   },
   "outputs": [],
   "source": []
  }
 ],
 "metadata": {
  "kernelspec": {
   "display_name": "Python 3",
   "language": "python",
   "name": "python3"
  },
  "language_info": {
   "codemirror_mode": {
    "name": "ipython",
    "version": 3
   },
   "file_extension": ".py",
   "mimetype": "text/x-python",
   "name": "python",
   "nbconvert_exporter": "python",
   "pygments_lexer": "ipython3",
   "version": "3.6.1"
  }
 },
 "nbformat": 4,
 "nbformat_minor": 2
}
