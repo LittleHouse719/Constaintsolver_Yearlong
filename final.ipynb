{
 "cells": [
  {
   "cell_type": "code",
   "execution_count": 89,
   "metadata": {},
   "outputs": [],
   "source": [
    "import json\n",
    "pfile=\"predicates.json\";\n",
    "apfile=\"animation_profile.json\"\n",
    "f = open(pfile)\n",
    "content = f.read()\n",
    "predicates=json.loads(content)\n",
    "\n",
    "f1=open(apfile)\n",
    "content1=f1.read()\n",
    "animation_profile=json.loads(content1)"
   ]
  },
  {
   "cell_type": "code",
   "execution_count": 90,
   "metadata": {},
   "outputs": [],
   "source": [
    "randomcolorList=[{'r': 0.73, 'g': 1.0, 'b': 1.0, 'a': 1.0}, {'r': 0.4, 'g': 0.55, 'b': 0.55, 'a': 1.0}, {'r': 0.86, 'g': 0.86, 'b': 0.86, 'a': 1.0}, {'r': 1.0, 'g': 0.85, 'b': 0.73, 'a': 1.0}, {'r': 1.0, 'g': 0.98, 'b': 0.8, 'a': 1.0}, {'r': 0.94, 'g': 1.0, 'b': 0.94, 'a': 1.0}, {'r': 1.0, 'g': 0.89, 'b': 0.88, 'a': 1.0}, {'r': 0.0, 'g': 0.53, 'b': 0.55, 'a': 1.0}, {'r': 1.0, 'g': 0.5, 'b': 0.14, 'a': 1.0}, {'r': 1.0, 'g': 0.76, 'b': 0.76, 'a': 1.0}, {'r': 0.18, 'g': 0.31, 'b': 0.31, 'a': 1.0}, {'r': 0.5, 'g': 1.0, 'b': 0.83, 'a': 1.0}, {'r': 0.8, 'g': 0.52, 'b': 0.25, 'a': 1.0}, {'r': 0.93, 'g': 0.93, 'b': 0.0, 'a': 1.0}, {'r': 0.0, 'g': 0.0, 'b': 0.5, 'a': 1.0}, {'r': 0.41, 'g': 0.55, 'b': 0.41, 'a': 1.0}, {'r': 1.0, 'g': 0.76, 'b': 0.76, 'a': 1.0}, {'r': 0.0, 'g': 0.0, 'b': 1.0, 'a': 1.0}, {'r': 0.0, 'g': 0.55, 'b': 0.0, 'a': 1.0}]\n",
    "import random\n",
    "def randomColor():\n",
    "    return random.choice(randomcolorList)"
   ]
  },
  {
   "cell_type": "code",
   "execution_count": 91,
   "metadata": {},
   "outputs": [],
   "source": [
    "import copy\n",
    "objectList=copy.deepcopy(predicates[\"objects\"])\n",
    "stages=copy.deepcopy(predicates[\"stages\"])\n",
    "predicates_rules=animation_profile[\"predicates_rules\"]"
   ]
  },
  {
   "cell_type": "code",
   "execution_count": null,
   "metadata": {},
   "outputs": [],
   "source": [
    "\n",
    "\n"
   ]
  },
  {
   "cell_type": "code",
   "execution_count": 92,
   "metadata": {
    "collapsed": true
   },
   "outputs": [],
   "source": [
    "def initialObjects(objectList,animation_profile):\n",
    "    unsolvedObjects={}\n",
    "    for objectname in objectList:\n",
    "        unsolvedObjects[objectname]={}\n",
    "        objType=animation_profile[\"objects\"][\"default\"]\n",
    "        #update the value for each \n",
    "        for objproperty in animation_profile[\"shape\"][objType]:\n",
    "            value=animation_profile[\"shape\"][objType][objproperty]\n",
    "            if value is not False:\n",
    "                if value ==\"randomcolor\":\n",
    "                    unsolvedObjects[objectname][objproperty]=randomColor()\n",
    "                    continue\n",
    "                unsolvedObjects[objectname][objproperty]=value\n",
    "            else:\n",
    "                unsolvedObjects[objectname][objproperty]=False\n",
    "        unsolvedObjects[objectname][\"name\"]=objectname\n",
    "    return unsolvedObjects"
   ]
  },
  {
   "cell_type": "code",
   "execution_count": 93,
   "metadata": {},
   "outputs": [],
   "source": [
    "objectsDic=initialObjects(objectList,animation_profile)"
   ]
  },
  {
   "cell_type": "code",
   "execution_count": 94,
   "metadata": {
    "collapsed": true
   },
   "outputs": [],
   "source": [
    "def initalspace(size):\n",
    "    array=[]\n",
    "    for i in range(size):\n",
    "        array.append(i)\n",
    "    return array\n",
    "space = initalspace(len(objectList))\n",
    "\n",
    "def distribute(obj,space,spacebtw,width,remove):\n",
    "    if not remove:\n",
    "        if obj in space:\n",
    "            objindex=space.index(obj)\n",
    "            return objindex*(width+spacebtw)\n",
    "        else:\n",
    "            for num in range(len(space)):\n",
    "                if num==space[num]:\n",
    "                    space[num]=obj\n",
    "                    return num*(width+spacebtw)\n",
    "    else:\n",
    "        if obj in space:\n",
    "            objindex=space.index(obj)\n",
    "            space[objindex]=objindex\n",
    "            return True\n",
    "        else:\n",
    "            return False"
   ]
  },
  {
   "cell_type": "code",
   "execution_count": 95,
   "metadata": {
    "collapsed": true
   },
   "outputs": [],
   "source": [
    "def check_rule_complete(predicate,objectsDic,predicates_rules):\n",
    "    predicatename=predicate[\"name\"]\n",
    "    objectnamelist=predicate[\"objectNames\"]\n",
    "    predicate_rule=predicates_rules[predicatename]\n",
    "    for rulename in predicate_rule[\"rules\"]:\n",
    "        rule=predicate_rule[rulename]\n",
    "        for key in rule:\n",
    "            #0 is on the left side of equation\n",
    "            if key != \"value\" and key !=\"0\":\n",
    "                property_check=rule[key]\n",
    "                objectname=objectnamelist[int(key)]\n",
    "                if objectsDic[objectname][property_check] is False:\n",
    "                    return False\n",
    "    return True"
   ]
  },
  {
   "cell_type": "code",
   "execution_count": 96,
   "metadata": {
    "collapsed": true
   },
   "outputs": [],
   "source": [
    "def applypredicates(predicate,objectsDic,predicates_rules):\n",
    "    pname=predicate[\"name\"]\n",
    "    objects=predicate[\"objectNames\"]\n",
    "    left=objects[0]\n",
    "    for rulename in predicates_rules[pname][\"rules\"]:\n",
    "        propertyname=predicates_rules[pname][rulename][\"0\"]\n",
    "        value=predicates_rules[pname][rulename][\"value\"]\n",
    "        rule=predicates_rules[pname][rulename]\n",
    "        if \"function\" in value:\n",
    "            if value[\"function\"]==\"distributex\":\n",
    "                objectsDic[left][propertyname]=distribute(left,space,20,80,False)\n",
    "        elif \"equal\" in value:\n",
    "            right_value=value[\"equal\"]\n",
    "            if right_value in rule:\n",
    "                right_proterpy=rule[right_value]\n",
    "                right_object=objects[int(right_value)]\n",
    "                objectsDic[left][propertyname]=objectsDic[right_object][right_proterpy]\n",
    "            else:\n",
    "                objectsDic[left][propertyname]=right_value\n",
    "                \n",
    "        elif \"add\" in value:\n",
    "            rightvalue=0\n",
    "            for additem in value[\"add\"]:\n",
    "                if additem in rule:\n",
    "                    right_property=rule[additem]\n",
    "                    right_object=objects[int(additem)]\n",
    "                    addvalue=objectsDic[right_object][right_property]\n",
    "                    rightvalue+=addvalue\n",
    "                else:\n",
    "                    rightvalue+=additem\n",
    "            objectsDic[left][propertyname]=rightvalue"
   ]
  },
  {
   "cell_type": "code",
   "execution_count": 97,
   "metadata": {
    "collapsed": true
   },
   "outputs": [],
   "source": [
    "def solvepredicates(predicates,objectsDic,predicates_rules):\n",
    "    while (len(predicates)>0):\n",
    "        predicate=predicates.pop(0)\n",
    "        if predicate[\"name\"] not in predicates_rules:\n",
    "            continue\n",
    "        if check_rule_complete(predicate,objectsDic,predicates_rules):\n",
    "            applypredicates(predicate,objectsDic,predicates_rules)\n",
    "        else:\n",
    "            if len(predicates)==0:\n",
    "                return False\n",
    "            predicates.append(predicate)\n",
    "    return True"
   ]
  },
  {
   "cell_type": "code",
   "execution_count": 98,
   "metadata": {},
   "outputs": [],
   "source": [
    "def solveAllStages(stages,objectsDic,predicates_rules):\n",
    "    result={}\n",
    "    result[\"visualStages\"]=[]\n",
    "    for stage in stages:\n",
    "        stageDic={}\n",
    "        objectDicCopy=copy.deepcopy(objectsDic)\n",
    "        predicates=stage[\"items\"]\n",
    "        solvepredicates(predicates,objectDicCopy,predicates_rules)\n",
    "        stageDic[\"visualSprites\"]=objectDicCopy\n",
    "        result[\"visualStages\"].append(stageDic)\n",
    "    return result"
   ]
  },
  {
   "cell_type": "code",
   "execution_count": 99,
   "metadata": {},
   "outputs": [],
   "source": [
    "result=solveAllStages(stages,objectsDic,predicates_rules)"
   ]
  },
  {
   "cell_type": "code",
   "execution_count": 100,
   "metadata": {},
   "outputs": [],
   "source": [
    "# resultJson = json.dumps(result)\n",
    "# print(resultJson)"
   ]
  },
  {
   "cell_type": "code",
   "execution_count": null,
   "metadata": {},
   "outputs": [],
   "source": []
  },
  {
   "cell_type": "code",
   "execution_count": 101,
   "metadata": {},
   "outputs": [
    {
     "name": "stdout",
     "output_type": "stream",
     "text": [
      "{\"visualStages\": [{\"visualSprites\": [{\"prefab\": \"Block\", \"showName\": true, \"x\": 0, \"y\": 0, \"color\": {\"r\": 0.0, \"g\": 0.53, \"b\": 0.55, \"a\": 1.0}, \"width\": 80, \"height\": 40, \"name\": \"a\", \"minX\": 0.0, \"maxX\": 0.16, \"minY\": 0.0, \"maxY\": 0.07}, {\"prefab\": \"Block\", \"showName\": true, \"x\": 100, \"y\": 0, \"color\": {\"r\": 1.0, \"g\": 0.5, \"b\": 0.14, \"a\": 1.0}, \"width\": 80, \"height\": 40, \"name\": \"b\", \"minX\": 0.2, \"maxX\": 0.36, \"minY\": 0.0, \"maxY\": 0.07}, {\"prefab\": \"Block\", \"showName\": true, \"x\": 300, \"y\": 0, \"color\": {\"r\": 1.0, \"g\": 0.85, \"b\": 0.73, \"a\": 1.0}, \"width\": 80, \"height\": 40, \"name\": \"c\", \"minX\": 0.6, \"maxX\": 0.76, \"minY\": 0.0, \"maxY\": 0.07}, {\"prefab\": \"Block\", \"showName\": true, \"x\": 250, \"y\": 480, \"color\": {\"r\": 0.94, \"g\": 1.0, \"b\": 0.94, \"a\": 1.0}, \"width\": 80, \"height\": 40, \"name\": \"d\", \"minX\": 0.5, \"maxX\": 0.66, \"minY\": 0.87, \"maxY\": 0.95}, {\"prefab\": \"Block\", \"showName\": true, \"x\": 200, \"y\": 0, \"color\": {\"r\": 0.4, \"g\": 0.55, \"b\": 0.55, \"a\": 1.0}, \"width\": 80, \"height\": 40, \"name\": \"e\", \"minX\": 0.4, \"maxX\": 0.56, \"minY\": 0.0, \"maxY\": 0.07}]}, {\"visualSprites\": [{\"prefab\": \"Block\", \"showName\": true, \"x\": 0, \"y\": 0, \"color\": {\"r\": 0.0, \"g\": 0.53, \"b\": 0.55, \"a\": 1.0}, \"width\": 80, \"height\": 40, \"name\": \"a\", \"minX\": 0.0, \"maxX\": 0.16, \"minY\": 0.0, \"maxY\": 0.07}, {\"prefab\": \"Block\", \"showName\": true, \"x\": 100, \"y\": 0, \"color\": {\"r\": 1.0, \"g\": 0.5, \"b\": 0.14, \"a\": 1.0}, \"width\": 80, \"height\": 40, \"name\": \"b\", \"minX\": 0.2, \"maxX\": 0.36, \"minY\": 0.0, \"maxY\": 0.07}, {\"prefab\": \"Block\", \"showName\": true, \"x\": 300, \"y\": 0, \"color\": {\"r\": 1.0, \"g\": 0.85, \"b\": 0.73, \"a\": 1.0}, \"width\": 80, \"height\": 40, \"name\": \"c\", \"minX\": 0.6, \"maxX\": 0.76, \"minY\": 0.0, \"maxY\": 0.07}, {\"prefab\": \"Block\", \"showName\": true, \"x\": 400, \"y\": 0, \"color\": {\"r\": 0.94, \"g\": 1.0, \"b\": 0.94, \"a\": 1.0}, \"width\": 80, \"height\": 40, \"name\": \"d\", \"minX\": 0.8, \"maxX\": 0.96, \"minY\": 0.0, \"maxY\": 0.07}, {\"prefab\": \"Block\", \"showName\": true, \"x\": 200, \"y\": 0, \"color\": {\"r\": 0.4, \"g\": 0.55, \"b\": 0.55, \"a\": 1.0}, \"width\": 80, \"height\": 40, \"name\": \"e\", \"minX\": 0.4, \"maxX\": 0.56, \"minY\": 0.0, \"maxY\": 0.07}]}, {\"visualSprites\": [{\"prefab\": \"Block\", \"showName\": true, \"x\": 0, \"y\": 0, \"color\": {\"r\": 0.0, \"g\": 0.53, \"b\": 0.55, \"a\": 1.0}, \"width\": 80, \"height\": 40, \"name\": \"a\", \"minX\": 0.0, \"maxX\": 0.16, \"minY\": 0.0, \"maxY\": 0.07}, {\"prefab\": \"Block\", \"showName\": true, \"x\": 250, \"y\": 480, \"color\": {\"r\": 1.0, \"g\": 0.5, \"b\": 0.14, \"a\": 1.0}, \"width\": 80, \"height\": 40, \"name\": \"b\", \"minX\": 0.5, \"maxX\": 0.66, \"minY\": 0.87, \"maxY\": 0.95}, {\"prefab\": \"Block\", \"showName\": true, \"x\": 300, \"y\": 0, \"color\": {\"r\": 1.0, \"g\": 0.85, \"b\": 0.73, \"a\": 1.0}, \"width\": 80, \"height\": 40, \"name\": \"c\", \"minX\": 0.6, \"maxX\": 0.76, \"minY\": 0.0, \"maxY\": 0.07}, {\"prefab\": \"Block\", \"showName\": true, \"x\": 400, \"y\": 0, \"color\": {\"r\": 0.94, \"g\": 1.0, \"b\": 0.94, \"a\": 1.0}, \"width\": 80, \"height\": 40, \"name\": \"d\", \"minX\": 0.8, \"maxX\": 0.96, \"minY\": 0.0, \"maxY\": 0.07}, {\"prefab\": \"Block\", \"showName\": true, \"x\": 200, \"y\": 0, \"color\": {\"r\": 0.4, \"g\": 0.55, \"b\": 0.55, \"a\": 1.0}, \"width\": 80, \"height\": 40, \"name\": \"e\", \"minX\": 0.4, \"maxX\": 0.56, \"minY\": 0.0, \"maxY\": 0.07}]}, {\"visualSprites\": [{\"prefab\": \"Block\", \"showName\": true, \"x\": 0, \"y\": 0, \"color\": {\"r\": 0.0, \"g\": 0.53, \"b\": 0.55, \"a\": 1.0}, \"width\": 80, \"height\": 40, \"name\": \"a\", \"minX\": 0.0, \"maxX\": 0.16, \"minY\": 0.0, \"maxY\": 0.07}, {\"prefab\": \"Block\", \"showName\": true, \"x\": 400, \"y\": 42, \"color\": {\"r\": 1.0, \"g\": 0.5, \"b\": 0.14, \"a\": 1.0}, \"width\": 80, \"height\": 40, \"name\": \"b\", \"minX\": 0.8, \"maxX\": 0.96, \"minY\": 0.08, \"maxY\": 0.15}, {\"prefab\": \"Block\", \"showName\": true, \"x\": 300, \"y\": 0, \"color\": {\"r\": 1.0, \"g\": 0.85, \"b\": 0.73, \"a\": 1.0}, \"width\": 80, \"height\": 40, \"name\": \"c\", \"minX\": 0.6, \"maxX\": 0.76, \"minY\": 0.0, \"maxY\": 0.07}, {\"prefab\": \"Block\", \"showName\": true, \"x\": 400, \"y\": 0, \"color\": {\"r\": 0.94, \"g\": 1.0, \"b\": 0.94, \"a\": 1.0}, \"width\": 80, \"height\": 40, \"name\": \"d\", \"minX\": 0.8, \"maxX\": 0.96, \"minY\": 0.0, \"maxY\": 0.07}, {\"prefab\": \"Block\", \"showName\": true, \"x\": 200, \"y\": 0, \"color\": {\"r\": 0.4, \"g\": 0.55, \"b\": 0.55, \"a\": 1.0}, \"width\": 80, \"height\": 40, \"name\": \"e\", \"minX\": 0.4, \"maxX\": 0.56, \"minY\": 0.0, \"maxY\": 0.07}]}, {\"visualSprites\": [{\"prefab\": \"Block\", \"showName\": true, \"x\": 0, \"y\": 0, \"color\": {\"r\": 0.0, \"g\": 0.53, \"b\": 0.55, \"a\": 1.0}, \"width\": 80, \"height\": 40, \"name\": \"a\", \"minX\": 0.0, \"maxX\": 0.16, \"minY\": 0.0, \"maxY\": 0.07}, {\"prefab\": \"Block\", \"showName\": true, \"x\": 400, \"y\": 42, \"color\": {\"r\": 1.0, \"g\": 0.5, \"b\": 0.14, \"a\": 1.0}, \"width\": 80, \"height\": 40, \"name\": \"b\", \"minX\": 0.8, \"maxX\": 0.96, \"minY\": 0.08, \"maxY\": 0.15}, {\"prefab\": \"Block\", \"showName\": true, \"x\": 250, \"y\": 480, \"color\": {\"r\": 1.0, \"g\": 0.85, \"b\": 0.73, \"a\": 1.0}, \"width\": 80, \"height\": 40, \"name\": \"c\", \"minX\": 0.5, \"maxX\": 0.66, \"minY\": 0.87, \"maxY\": 0.95}, {\"prefab\": \"Block\", \"showName\": true, \"x\": 400, \"y\": 0, \"color\": {\"r\": 0.94, \"g\": 1.0, \"b\": 0.94, \"a\": 1.0}, \"width\": 80, \"height\": 40, \"name\": \"d\", \"minX\": 0.8, \"maxX\": 0.96, \"minY\": 0.0, \"maxY\": 0.07}, {\"prefab\": \"Block\", \"showName\": true, \"x\": 200, \"y\": 0, \"color\": {\"r\": 0.4, \"g\": 0.55, \"b\": 0.55, \"a\": 1.0}, \"width\": 80, \"height\": 40, \"name\": \"e\", \"minX\": 0.4, \"maxX\": 0.56, \"minY\": 0.0, \"maxY\": 0.07}]}, {\"visualSprites\": [{\"prefab\": \"Block\", \"showName\": true, \"x\": 0, \"y\": 0, \"color\": {\"r\": 0.0, \"g\": 0.53, \"b\": 0.55, \"a\": 1.0}, \"width\": 80, \"height\": 40, \"name\": \"a\", \"minX\": 0.0, \"maxX\": 0.16, \"minY\": 0.0, \"maxY\": 0.07}, {\"prefab\": \"Block\", \"showName\": true, \"x\": 400, \"y\": 42, \"color\": {\"r\": 1.0, \"g\": 0.5, \"b\": 0.14, \"a\": 1.0}, \"width\": 80, \"height\": 40, \"name\": \"b\", \"minX\": 0.8, \"maxX\": 0.96, \"minY\": 0.08, \"maxY\": 0.15}, {\"prefab\": \"Block\", \"showName\": true, \"x\": 0, \"y\": 42, \"color\": {\"r\": 1.0, \"g\": 0.85, \"b\": 0.73, \"a\": 1.0}, \"width\": 80, \"height\": 40, \"name\": \"c\", \"minX\": 0.0, \"maxX\": 0.16, \"minY\": 0.08, \"maxY\": 0.15}, {\"prefab\": \"Block\", \"showName\": true, \"x\": 400, \"y\": 0, \"color\": {\"r\": 0.94, \"g\": 1.0, \"b\": 0.94, \"a\": 1.0}, \"width\": 80, \"height\": 40, \"name\": \"d\", \"minX\": 0.8, \"maxX\": 0.96, \"minY\": 0.0, \"maxY\": 0.07}, {\"prefab\": \"Block\", \"showName\": true, \"x\": 200, \"y\": 0, \"color\": {\"r\": 0.4, \"g\": 0.55, \"b\": 0.55, \"a\": 1.0}, \"width\": 80, \"height\": 40, \"name\": \"e\", \"minX\": 0.4, \"maxX\": 0.56, \"minY\": 0.0, \"maxY\": 0.07}]}, {\"visualSprites\": [{\"prefab\": \"Block\", \"showName\": true, \"x\": 0, \"y\": 0, \"color\": {\"r\": 0.0, \"g\": 0.53, \"b\": 0.55, \"a\": 1.0}, \"width\": 80, \"height\": 40, \"name\": \"a\", \"minX\": 0.0, \"maxX\": 0.16, \"minY\": 0.0, \"maxY\": 0.07}, {\"prefab\": \"Block\", \"showName\": true, \"x\": 400, \"y\": 42, \"color\": {\"r\": 1.0, \"g\": 0.5, \"b\": 0.14, \"a\": 1.0}, \"width\": 80, \"height\": 40, \"name\": \"b\", \"minX\": 0.8, \"maxX\": 0.96, \"minY\": 0.08, \"maxY\": 0.15}, {\"prefab\": \"Block\", \"showName\": true, \"x\": 0, \"y\": 42, \"color\": {\"r\": 1.0, \"g\": 0.85, \"b\": 0.73, \"a\": 1.0}, \"width\": 80, \"height\": 40, \"name\": \"c\", \"minX\": 0.0, \"maxX\": 0.16, \"minY\": 0.08, \"maxY\": 0.15}, {\"prefab\": \"Block\", \"showName\": true, \"x\": 400, \"y\": 0, \"color\": {\"r\": 0.94, \"g\": 1.0, \"b\": 0.94, \"a\": 1.0}, \"width\": 80, \"height\": 40, \"name\": \"d\", \"minX\": 0.8, \"maxX\": 0.96, \"minY\": 0.0, \"maxY\": 0.07}, {\"prefab\": \"Block\", \"showName\": true, \"x\": 250, \"y\": 480, \"color\": {\"r\": 0.4, \"g\": 0.55, \"b\": 0.55, \"a\": 1.0}, \"width\": 80, \"height\": 40, \"name\": \"e\", \"minX\": 0.5, \"maxX\": 0.66, \"minY\": 0.87, \"maxY\": 0.95}]}, {\"visualSprites\": [{\"prefab\": \"Block\", \"showName\": true, \"x\": 0, \"y\": 0, \"color\": {\"r\": 0.0, \"g\": 0.53, \"b\": 0.55, \"a\": 1.0}, \"width\": 80, \"height\": 40, \"name\": \"a\", \"minX\": 0.0, \"maxX\": 0.16, \"minY\": 0.0, \"maxY\": 0.07}, {\"prefab\": \"Block\", \"showName\": true, \"x\": 400, \"y\": 42, \"color\": {\"r\": 1.0, \"g\": 0.5, \"b\": 0.14, \"a\": 1.0}, \"width\": 80, \"height\": 40, \"name\": \"b\", \"minX\": 0.8, \"maxX\": 0.96, \"minY\": 0.08, \"maxY\": 0.15}, {\"prefab\": \"Block\", \"showName\": true, \"x\": 0, \"y\": 42, \"color\": {\"r\": 1.0, \"g\": 0.85, \"b\": 0.73, \"a\": 1.0}, \"width\": 80, \"height\": 40, \"name\": \"c\", \"minX\": 0.0, \"maxX\": 0.16, \"minY\": 0.08, \"maxY\": 0.15}, {\"prefab\": \"Block\", \"showName\": true, \"x\": 400, \"y\": 0, \"color\": {\"r\": 0.94, \"g\": 1.0, \"b\": 0.94, \"a\": 1.0}, \"width\": 80, \"height\": 40, \"name\": \"d\", \"minX\": 0.8, \"maxX\": 0.96, \"minY\": 0.0, \"maxY\": 0.07}, {\"prefab\": \"Block\", \"showName\": true, \"x\": 0, \"y\": 84, \"color\": {\"r\": 0.4, \"g\": 0.55, \"b\": 0.55, \"a\": 1.0}, \"width\": 80, \"height\": 40, \"name\": \"e\", \"minX\": 0.0, \"maxX\": 0.16, \"minY\": 0.15, \"maxY\": 0.23}]}]}\n"
     ]
    }
   ],
   "source": [
    "def transfer(oneStep,initialobjects):\n",
    "    # list that stores object name\n",
    "    finalFile = {}\n",
    "    temp = []\n",
    "    # panel size\n",
    "    panelWidth = 500\n",
    "    panelHeight = 550\n",
    "    # dict that stores new position info\n",
    "    dictX = {\"minX\":\"\",\n",
    "            \"maxX\":\"\",\n",
    "            \"minY\":\"\",\n",
    "            \"maxY\":\"\"}\n",
    "    # new position info\n",
    "    minX = 0.0\n",
    "    maxX = 0.0\n",
    "    minY = 0.0\n",
    "    maxY = 0.0\n",
    "\n",
    "   \n",
    "    # generate new json file\n",
    "    for i,object in enumerate(initialobjects):\n",
    "        temp.append(oneStep[object])\n",
    "        # get all information about position\n",
    "        xNum = oneStep[object][\"x\"]\n",
    "        yNum = oneStep[object][\"y\"]\n",
    "        width = oneStep[object][\"width\"]\n",
    "        height = oneStep[object][\"height\"]\n",
    "        # transfer the position info into position needed in Unity\n",
    "        minX = xNum/panelWidth\n",
    "        maxX = (xNum + width)/panelWidth\n",
    "        minY = yNum/panelHeight\n",
    "        maxY = (yNum + height)/panelHeight\n",
    "        dictX[\"minX\"] = round(minX,2)\n",
    "        dictX[\"maxX\"] = round(maxX,2)\n",
    "        dictX[\"minY\"] = round(minY,2)\n",
    "        dictX[\"maxY\"] = round(maxY,2)\n",
    "        # update the old dict\n",
    "        temp[i].update(dictX)\n",
    "        finalFile[\"visualSprites\"] = temp\n",
    "    return finalFile\n",
    "\n",
    "\n",
    "final = {\"visualStages\":[]}\n",
    "oneStep = {}\n",
    "spriteList = []\n",
    "lists = result[\"visualStages\"]\n",
    "for i,step in enumerate(lists):\n",
    "    oneStep = lists[i][\"visualSprites\"]\n",
    "    spriteList.append(transfer(oneStep,objectList))\n",
    "    final[\"visualStages\"] = spriteList\n",
    "jsonfile = json.dumps(final)\n",
    "print(jsonfile)"
   ]
  },
  {
   "cell_type": "code",
   "execution_count": null,
   "metadata": {
    "collapsed": true
   },
   "outputs": [],
   "source": []
  }
 ],
 "metadata": {
  "kernelspec": {
   "display_name": "Python 3",
   "language": "python",
   "name": "python3"
  },
  "language_info": {
   "codemirror_mode": {
    "name": "ipython",
    "version": 3
   },
   "file_extension": ".py",
   "mimetype": "text/x-python",
   "name": "python",
   "nbconvert_exporter": "python",
   "pygments_lexer": "ipython3",
   "version": "3.6.1"
  }
 },
 "nbformat": 4,
 "nbformat_minor": 2
}
