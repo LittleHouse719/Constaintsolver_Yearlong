{
 "cells": [
  {
   "cell_type": "code",
   "execution_count": 119,
   "metadata": {
    "collapsed": true
   },
   "outputs": [],
   "source": [
    "import json\n",
    "import random_color \n",
    "import copy\n",
    "import custom_functions\n",
    "pfile=\"predicates.json\";\n",
    "apfile=\"animation_profile.json\"\n",
    "f = open(pfile)\n",
    "content = f.read()\n",
    "predicates=json.loads(content)\n",
    "\n",
    "f1=open(apfile)\n",
    "content1=f1.read()\n",
    "animation_profile=json.loads(content1)"
   ]
  },
  {
   "cell_type": "code",
   "execution_count": 120,
   "metadata": {
    "collapsed": true
   },
   "outputs": [],
   "source": [
    "objectList=copy.deepcopy(predicates[\"objects\"])\n",
    "stages=copy.deepcopy(predicates[\"stages\"])\n",
    "predicates_rules=animation_profile[\"predicates_rules\"]"
   ]
  },
  {
   "cell_type": "code",
   "execution_count": 121,
   "metadata": {
    "collapsed": true
   },
   "outputs": [],
   "source": [
    "def initialObjects(objectList,animation_profile):\n",
    "    unsolvedObjects={}\n",
    "    for objectname in objectList:\n",
    "        unsolvedObjects[objectname]={}\n",
    "        objType=animation_profile[\"objects\"][\"default\"]\n",
    "        #update the value for each \n",
    "        for objproperty in animation_profile[\"shape\"][objType]:\n",
    "            value=animation_profile[\"shape\"][objType][objproperty]\n",
    "            if value is not False:\n",
    "                if value ==\"randomcolor\":\n",
    "                    unsolvedObjects[objectname][objproperty]=random_color.get_random_color()\n",
    "                    continue\n",
    "                unsolvedObjects[objectname][objproperty]=value\n",
    "            else:\n",
    "                unsolvedObjects[objectname][objproperty]=False\n",
    "        unsolvedObjects[objectname][\"name\"]=objectname\n",
    "    return unsolvedObjects"
   ]
  },
  {
   "cell_type": "code",
   "execution_count": 122,
   "metadata": {
    "collapsed": true
   },
   "outputs": [],
   "source": [
    "objectsDic=initialObjects(objectList,animation_profile)"
   ]
  },
  {
   "cell_type": "code",
   "execution_count": 123,
   "metadata": {},
   "outputs": [],
   "source": [
    "space = custom_functions.init_space(len(objectList))"
   ]
  },
  {
   "cell_type": "code",
   "execution_count": 124,
   "metadata": {
    "collapsed": true
   },
   "outputs": [],
   "source": [
    "def check_rule_complete(predicate,objectsDic,predicates_rules):\n",
    "    predicatename=predicate[\"name\"]\n",
    "    objectnamelist=predicate[\"objectNames\"]\n",
    "    predicate_rule=predicates_rules[predicatename]\n",
    "    for rulename in predicate_rule[\"rules\"]:\n",
    "        rule=predicate_rule[rulename]\n",
    "        for key in rule:\n",
    "            #0 is on the left side of equation\n",
    "            if key != \"value\" and key !=\"0\":\n",
    "                property_check=rule[key]\n",
    "                objectname=objectnamelist[int(key)]\n",
    "                if objectsDic[objectname][property_check] is False:\n",
    "                    return False\n",
    "    return True"
   ]
  },
  {
   "cell_type": "code",
   "execution_count": 125,
   "metadata": {
    "collapsed": true
   },
   "outputs": [],
   "source": [
    "def applypredicates(predicate,objectsDic,predicates_rules):\n",
    "    pname=predicate[\"name\"]\n",
    "    objects=predicate[\"objectNames\"]\n",
    "    left=objects[0]\n",
    "    for rulename in predicates_rules[pname][\"rules\"]:\n",
    "        propertyname=predicates_rules[pname][rulename][\"0\"]\n",
    "        value=predicates_rules[pname][rulename][\"value\"]\n",
    "        rule=predicates_rules[pname][rulename]\n",
    "        if \"function\" in value:\n",
    "            if value[\"function\"]==\"distributex\":\n",
    "                objectsDic[left][propertyname]=custom_functions.distributex(left,space,20,80,False)\n",
    "        elif \"equal\" in value:\n",
    "            right_value=value[\"equal\"]\n",
    "            if right_value in rule:\n",
    "                right_proterpy=rule[right_value]\n",
    "                right_object=objects[int(right_value)]\n",
    "                objectsDic[left][propertyname]=objectsDic[right_object][right_proterpy]\n",
    "            else:\n",
    "                objectsDic[left][propertyname]=right_value\n",
    "                \n",
    "        elif \"add\" in value:\n",
    "            rightvalue=0\n",
    "            for additem in value[\"add\"]:\n",
    "                if additem in rule:\n",
    "                    right_property=rule[additem]\n",
    "                    right_object=objects[int(additem)]\n",
    "                    addvalue=objectsDic[right_object][right_property]\n",
    "                    rightvalue+=addvalue\n",
    "                else:\n",
    "                    rightvalue+=additem\n",
    "            objectsDic[left][propertyname]=rightvalue"
   ]
  },
  {
   "cell_type": "code",
   "execution_count": 126,
   "metadata": {
    "collapsed": true
   },
   "outputs": [],
   "source": [
    "def solvepredicates(predicates,objectsDic,predicates_rules):\n",
    "    while (len(predicates)>0):\n",
    "        predicate=predicates.pop(0)\n",
    "        if predicate[\"name\"] not in predicates_rules:\n",
    "            continue\n",
    "        if check_rule_complete(predicate,objectsDic,predicates_rules):\n",
    "            applypredicates(predicate,objectsDic,predicates_rules)\n",
    "        else:\n",
    "            if len(predicates)==0:\n",
    "                return False\n",
    "            predicates.append(predicate)\n",
    "    return True"
   ]
  },
  {
   "cell_type": "code",
   "execution_count": 127,
   "metadata": {
    "collapsed": true
   },
   "outputs": [],
   "source": [
    "def solveAllStages(stages,objectsDic,predicates_rules):\n",
    "    result={}\n",
    "    result[\"visualStages\"]=[]\n",
    "    for stage in stages:\n",
    "        stageDic={}\n",
    "        objectDicCopy=copy.deepcopy(objectsDic)\n",
    "        predicates=stage[\"items\"]\n",
    "        solvepredicates(predicates,objectDicCopy,predicates_rules)\n",
    "        stageDic[\"visualSprites\"]=objectDicCopy\n",
    "        result[\"visualStages\"].append(stageDic)\n",
    "    return result"
   ]
  },
  {
   "cell_type": "code",
   "execution_count": 128,
   "metadata": {},
   "outputs": [],
   "source": [
    "result=solveAllStages(stages,objectsDic,predicates_rules)"
   ]
  },
  {
   "cell_type": "code",
   "execution_count": 129,
   "metadata": {},
   "outputs": [],
   "source": [
    "def transfer(oneStep,initialobjects):\n",
    "    # list that stores object name\n",
    "    finalFile = {}\n",
    "    temp = []\n",
    "    # panel size\n",
    "    panelWidth = 500\n",
    "    panelHeight = 550\n",
    "    # dict that stores new position info\n",
    "    dictX = {\"minX\":\"\",\n",
    "            \"maxX\":\"\",\n",
    "            \"minY\":\"\",\n",
    "            \"maxY\":\"\"}\n",
    "    # new position info\n",
    "    minX = 0.0\n",
    "    maxX = 0.0\n",
    "    minY = 0.0\n",
    "    maxY = 0.0\n",
    "    # generate new json file\n",
    "    for i,object in enumerate(initialobjects):\n",
    "        temp.append(oneStep[object])\n",
    "        # get all information about position\n",
    "        xNum = oneStep[object][\"x\"]\n",
    "        yNum = oneStep[object][\"y\"]\n",
    "        width = oneStep[object][\"width\"]\n",
    "        height = oneStep[object][\"height\"]\n",
    "        # transfer the position info into position needed in Unity\n",
    "        minX = xNum/panelWidth\n",
    "        maxX = (xNum + width)/panelWidth\n",
    "        minY = yNum/panelHeight\n",
    "        maxY = (yNum + height)/panelHeight\n",
    "        dictX[\"minX\"] = round(minX,3)\n",
    "        dictX[\"maxX\"] = round(maxX,3)\n",
    "        dictX[\"minY\"] = round(minY,3)\n",
    "        dictX[\"maxY\"] = round(maxY,3)\n",
    "        # update the old dict\n",
    "        temp[i].update(dictX)\n",
    "        finalFile[\"visualSprites\"] = temp\n",
    "    return finalFile\n",
    "\n",
    "final = {\"visualStages\":[]}\n",
    "oneStep = {}\n",
    "spriteList = []\n",
    "lists = result[\"visualStages\"]\n",
    "for i,step in enumerate(lists):\n",
    "    oneStep = lists[i][\"visualSprites\"]\n",
    "    spriteList.append(transfer(oneStep,objectList))\n",
    "    final[\"visualStages\"] = spriteList\n",
    "\n",
    "with open('visualisation.json', 'w') as outfile:\n",
    "    json.dump(final, outfile)"
   ]
  },
  {
   "cell_type": "code",
   "execution_count": null,
   "metadata": {
    "collapsed": true
   },
   "outputs": [],
   "source": []
  },
  {
   "cell_type": "code",
   "execution_count": null,
   "metadata": {
    "collapsed": true
   },
   "outputs": [],
   "source": []
  },
  {
   "cell_type": "code",
   "execution_count": null,
   "metadata": {
    "collapsed": true
   },
   "outputs": [],
   "source": []
  }
 ],
 "metadata": {
  "kernelspec": {
   "display_name": "Python 3",
   "language": "python",
   "name": "python3"
  },
  "language_info": {
   "codemirror_mode": {
    "name": "ipython",
    "version": 3
   },
   "file_extension": ".py",
   "mimetype": "text/x-python",
   "name": "python",
   "nbconvert_exporter": "python",
   "pygments_lexer": "ipython3",
   "version": "3.6.1"
  }
 },
 "nbformat": 4,
 "nbformat_minor": 2
}
