{
 "cells": [
  {
   "cell_type": "code",
   "execution_count": 19,
   "metadata": {},
   "outputs": [],
   "source": [
    "animation={\"block\":[\"name\",\"shape\",\"isShowName\",\"x\",\"y\",\"color\",\"size\"],\"objects\":{\"objectname\":[\"a\",\"b\",\"c\",\"d\",\"e\"],\"type\":\"block\"}}"
   ]
  },
  {
   "cell_type": "code",
   "execution_count": 22,
   "metadata": {},
   "outputs": [],
   "source": [
    "objectlist={}\n",
    "for object in animation[\"objects\"][\"objectname\"]:\n",
    "    objectlist[object]={}\n",
    "    objtype=animation[\"objects\"][\"type\"]\n",
    "    for property in animation[objtype]:\n",
    "        objectlist[object][property]=False\n",
    "    objectlist[object][\"name\"]=object"
   ]
  },
  {
   "cell_type": "code",
   "execution_count": 23,
   "metadata": {},
   "outputs": [
    {
     "name": "stdout",
     "output_type": "stream",
     "text": [
      "{'a': {'name': 'a', 'shape': False, 'isShowName': False, 'x': False, 'y': False, 'color': False, 'size': False}, 'b': {'name': 'b', 'shape': False, 'isShowName': False, 'x': False, 'y': False, 'color': False, 'size': False}, 'c': {'name': 'c', 'shape': False, 'isShowName': False, 'x': False, 'y': False, 'color': False, 'size': False}, 'd': {'name': 'd', 'shape': False, 'isShowName': False, 'x': False, 'y': False, 'color': False, 'size': False}, 'e': {'name': 'e', 'shape': False, 'isShowName': False, 'x': False, 'y': False, 'color': False, 'size': False}}\n"
     ]
    }
   ],
   "source": [
    "print(objectlist)"
   ]
  },
  {
   "cell_type": "code",
   "execution_count": null,
   "metadata": {},
   "outputs": [],
   "source": [
    "\n"
   ]
  },
  {
   "cell_type": "code",
   "execution_count": 51,
   "metadata": {
    "collapsed": true
   },
   "outputs": [],
   "source": [
    "def initalspace(size):\n",
    "    array=[]\n",
    "    for i in range(size):\n",
    "        array.append(i)\n",
    "    return array"
   ]
  },
  {
   "cell_type": "code",
   "execution_count": 108,
   "metadata": {},
   "outputs": [
    {
     "name": "stdout",
     "output_type": "stream",
     "text": [
      "[0, 1, 2, 3, 4]\n"
     ]
    }
   ],
   "source": [
    "space = initalspace(5)"
   ]
  },
  {
   "cell_type": "code",
   "execution_count": 88,
   "metadata": {},
   "outputs": [],
   "source": [
    "def distribute(obj,space,spacebtw,width,remove):\n",
    "    if not remove:\n",
    "        if obj in space:\n",
    "            objindex=space.index(obj)\n",
    "            return objindex*(width+spacebtw)\n",
    "        else:\n",
    "            for num in range(len(space)):\n",
    "                if num==space[num]:\n",
    "                    space[num]=obj\n",
    "                    return num*(width+spacebtw)\n",
    "    else:\n",
    "        if obj in space:\n",
    "            objindex=space.index(obj)\n",
    "            space[objindex]=objindex\n",
    "            return True\n",
    "        else:\n",
    "            return False"
   ]
  },
  {
   "cell_type": "code",
   "execution_count": null,
   "metadata": {},
   "outputs": [],
   "source": []
  },
  {
   "cell_type": "code",
   "execution_count": 124,
   "metadata": {},
   "outputs": [],
   "source": [
    "animationp={\n",
    "  \"on\": {\n",
    "    \"numvar\": 2,\n",
    "    \"rules\": [\n",
    "      \"rule1\",\n",
    "      \"rule2\"\n",
    "    ],\n",
    "    \"rule1\": {\n",
    "      \"0\": \"x\",\n",
    "      \"1\": \"x\",\n",
    "      \"value\": {\n",
    "        \"equal\": \"1\"\n",
    "      }\n",
    "    },\n",
    "    \"rule2\": {\n",
    "      \"0\": \"y\",\n",
    "      \"1\": \"y\",\n",
    "      \"value\": {\n",
    "        \"add\": [\n",
    "          \"1\",\n",
    "          50\n",
    "        ]\n",
    "      }\n",
    "    }\n",
    "  },\n",
    "  \"on-table\": {\n",
    "    \"predictes\": \"on-table\",\n",
    "    \"numvar\": 1,\n",
    "    \"rules\": [\n",
    "      \"rule1\",\n",
    "      \"rule2\"\n",
    "    ],\n",
    "    \"rule1\": {\n",
    "      \"0\": \"x\",\n",
    "      \"value\": {\n",
    "        \"function\": \"distributex\"\n",
    "      }\n",
    "    },\n",
    "    \"rule2\": {\n",
    "      \"0\": \"y\",\n",
    "      \"value\": {\n",
    "        \"equal\": 500\n",
    "      }\n",
    "    }\n",
    "  }\n",
    "}"
   ]
  },
  {
   "cell_type": "code",
   "execution_count": 128,
   "metadata": {},
   "outputs": [],
   "source": [
    "predicates={\"name\":\"on-table\",\"objectNames\":[\"b\"]}"
   ]
  },
  {
   "cell_type": "code",
   "execution_count": 129,
   "metadata": {},
   "outputs": [],
   "source": [
    "pname=predicates[\"name\"]\n",
    "objects=predicates[\"objectNames\"]\n",
    "left=objects[0]\n",
    "for rule in animationp[pname][\"rules\"]:\n",
    "    propertyname=animationp[pname][rule][\"0\"]\n",
    "    value=animationp[pname][rule][\"value\"]\n",
    "    if \"function\" in value:\n",
    "        if value[\"function\"]==\"distributex\":\n",
    "            objectlist[left][propertyname]=distribute(left,space,20,80,False)\n",
    "    elif \"equal\" in value:\n",
    "        objectlist[left][propertyname]=value[\"equal\"]\n",
    "    elif \"add\" in value:\n",
    "        rightvalue=0\n",
    "        for additem in value[\"add\"]:\n",
    "            if additem in rule:\n",
    "                right_property=rule[additem]\n",
    "                addvalue=objectlist[additem][right_property]\n",
    "                rightvalue+=addvalue\n",
    "            else:\n",
    "                rightvalue+=additem\n",
    "        objectlist[left][propertyname]=rightvalue"
   ]
  },
  {
   "cell_type": "code",
   "execution_count": 130,
   "metadata": {},
   "outputs": [
    {
     "name": "stdout",
     "output_type": "stream",
     "text": [
      "{'a': {'name': 'a', 'shape': False, 'isShowName': False, 'x': 0, 'y': 500, 'color': False, 'size': False}, 'b': {'name': 'b', 'shape': False, 'isShowName': False, 'x': 100, 'y': 500, 'color': False, 'size': False}, 'c': {'name': 'c', 'shape': False, 'isShowName': False, 'x': False, 'y': False, 'color': False, 'size': False}, 'd': {'name': 'd', 'shape': False, 'isShowName': False, 'x': False, 'y': False, 'color': False, 'size': False}, 'e': {'name': 'e', 'shape': False, 'isShowName': False, 'x': False, 'y': False, 'color': False, 'size': False}}\n"
     ]
    }
   ],
   "source": [
    "print(objectlist)"
   ]
  },
  {
   "cell_type": "code",
   "execution_count": null,
   "metadata": {},
   "outputs": [],
   "source": [
    "def check_rule_complete(rule):\n",
    "    number_of_var=rule[\"numvar\"]\n",
    "    "
   ]
  },
  {
   "cell_type": "code",
   "execution_count": null,
   "metadata": {},
   "outputs": [],
   "source": []
  },
  {
   "cell_type": "code",
   "execution_count": null,
   "metadata": {
    "collapsed": true
   },
   "outputs": [],
   "source": []
  },
  {
   "cell_type": "code",
   "execution_count": null,
   "metadata": {
    "collapsed": true
   },
   "outputs": [],
   "source": []
  }
 ],
 "metadata": {
  "kernelspec": {
   "display_name": "Python 3",
   "language": "python",
   "name": "python3"
  },
  "language_info": {
   "codemirror_mode": {
    "name": "ipython",
    "version": 3
   },
   "file_extension": ".py",
   "mimetype": "text/x-python",
   "name": "python",
   "nbconvert_exporter": "python",
   "pygments_lexer": "ipython3",
   "version": "3.6.1"
  }
 },
 "nbformat": 4,
 "nbformat_minor": 2
}
