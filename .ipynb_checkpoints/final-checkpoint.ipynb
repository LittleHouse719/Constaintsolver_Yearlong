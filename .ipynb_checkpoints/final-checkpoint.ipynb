{
 "cells": [
  {
   "cell_type": "code",
   "execution_count": 5,
   "metadata": {},
   "outputs": [],
   "source": [
    "import json\n",
    "pfile=\"predicates.json\";\n",
    "apfile=\"animation_profile.json\"\n",
    "f = open(pfile)\n",
    "content = f.read()\n",
    "predicates=json.loads(content)\n",
    "\n",
    "f1=open(apfile)\n",
    "content1=f1.read()\n",
    "animation_profile=json.loads(content1)"
   ]
  },
  {
   "cell_type": "code",
   "execution_count": 9,
   "metadata": {},
   "outputs": [
    {
     "name": "stdout",
     "output_type": "stream",
     "text": [
      "{'objects': ['a', 'b', 'c', 'd', 'e'], 'stages': [{'items': [{'name': 'on-table', 'objectNames': ['a']}, {'name': 'on-table', 'objectNames': ['b']}, {'name': 'on-table', 'objectNames': ['e']}, {'name': 'on-table', 'objectNames': ['c']}, {'name': 'clear', 'objectNames': ['a']}, {'name': 'clear', 'objectNames': ['b']}, {'name': 'clear', 'objectNames': ['e']}, {'name': 'clear', 'objectNames': ['d']}, {'name': 'on', 'objectNames': ['d', 'c']}, {'name': 'arm-free', 'objectNames': []}]}, {'items': [{'name': 'on-table', 'objectNames': ['a']}, {'name': 'on-table', 'objectNames': ['b']}, {'name': 'on-table', 'objectNames': ['e']}, {'name': 'on-table', 'objectNames': ['c']}, {'name': 'clear', 'objectNames': ['a']}, {'name': 'clear', 'objectNames': ['b']}, {'name': 'clear', 'objectNames': ['e']}, {'name': 'clear', 'objectNames': ['c']}, {'name': 'holding', 'objectNames': ['d']}]}, {'items': [{'name': 'on-table', 'objectNames': ['a']}, {'name': 'on-table', 'objectNames': ['b']}, {'name': 'on-table', 'objectNames': ['c']}, {'name': 'on-table', 'objectNames': ['d']}, {'name': 'on-table', 'objectNames': ['e']}, {'name': 'clear', 'objectNames': ['a']}, {'name': 'clear', 'objectNames': ['b']}, {'name': 'clear', 'objectNames': ['e']}, {'name': 'clear', 'objectNames': ['c']}, {'name': 'clear', 'objectNames': ['d']}, {'name': 'arm-free', 'objectNames': []}]}, {'items': [{'name': 'on-table', 'objectNames': ['a']}, {'name': 'on-table', 'objectNames': ['c']}, {'name': 'on-table', 'objectNames': ['d']}, {'name': 'on-table', 'objectNames': ['e']}, {'name': 'clear', 'objectNames': ['a']}, {'name': 'clear', 'objectNames': ['e']}, {'name': 'clear', 'objectNames': ['c']}, {'name': 'clear', 'objectNames': ['d']}, {'name': 'holding', 'objectNames': ['b']}]}, {'items': [{'name': 'on-table', 'objectNames': ['a']}, {'name': 'on-table', 'objectNames': ['c']}, {'name': 'on-table', 'objectNames': ['d']}, {'name': 'on-table', 'objectNames': ['e']}, {'name': 'clear', 'objectNames': ['a']}, {'name': 'clear', 'objectNames': ['e']}, {'name': 'clear', 'objectNames': ['c']}, {'name': 'on', 'objectNames': ['b', 'd']}, {'name': 'clear', 'objectNames': ['b']}, {'name': 'arm-free', 'objectNames': []}]}, {'items': [{'name': 'on-table', 'objectNames': ['a']}, {'name': 'on-table', 'objectNames': ['d']}, {'name': 'on-table', 'objectNames': ['e']}, {'name': 'clear', 'objectNames': ['a']}, {'name': 'clear', 'objectNames': ['e']}, {'name': 'on', 'objectNames': ['b', 'd']}, {'name': 'clear', 'objectNames': ['b']}, {'name': 'holding', 'objectNames': ['c']}]}, {'items': [{'name': 'on-table', 'objectNames': ['a']}, {'name': 'on-table', 'objectNames': ['d']}, {'name': 'on-table', 'objectNames': ['e']}, {'name': 'clear', 'objectNames': ['b']}, {'name': 'clear', 'objectNames': ['c']}, {'name': 'clear', 'objectNames': ['e']}, {'name': 'on', 'objectNames': ['b', 'd']}, {'name': 'on', 'objectNames': ['c', 'a']}, {'name': 'arm-free', 'objectNames': []}]}, {'items': [{'name': 'on-table', 'objectNames': ['a']}, {'name': 'on-table', 'objectNames': ['d']}, {'name': 'clear', 'objectNames': ['b']}, {'name': 'clear', 'objectNames': ['c']}, {'name': 'on', 'objectNames': ['b', 'd']}, {'name': 'on', 'objectNames': ['c', 'a']}, {'name': 'holding', 'objectNames': ['e']}]}, {'items': [{'name': 'on-table', 'objectNames': ['a']}, {'name': 'on-table', 'objectNames': ['d']}, {'name': 'clear', 'objectNames': ['b']}, {'name': 'clear', 'objectNames': ['c']}, {'name': 'clear', 'objectNames': ['e']}, {'name': 'on', 'objectNames': ['b', 'd']}, {'name': 'on', 'objectNames': ['c', 'a']}, {'name': 'on', 'objectNames': ['e', 'c']}, {'name': 'arm-free', 'objectNames': []}]}]}\n",
      "{'objects': {'default': 'Block'}, 'shape': {'Block': {'prefab': 'Block', 'showName': True, 'x': False, 'y': False, 'color': 'randomcolor', 'width': 80, 'height': 40}}, 'predicates_rules': {'on': {'rules': ['rule1', 'rule2'], 'rule1': {'0': 'x', '1': 'x', 'value': {'equal': '1'}}, 'rule2': {'0': 'y', '1': 'y', 'value': {'add': ['1', 42]}}}, 'on-table': {'predictes': 'on-table', 'numvar': 1, 'rules': ['rule1', 'rule2'], 'rule1': {'0': 'x', 'value': {'function': 'distributex'}}, 'rule2': {'0': 'y', 'value': {'equal': 0}}}, 'holding': {'rules': ['rule1', 'rule2'], 'rule1': {'0': 'y', 'value': {'equal': 480}}, 'rule2': {'0': 'x', 'value': {'equal': 250}}}}}\n"
     ]
    }
   ],
   "source": [
    "randomcolorList=[{'r': 0.73, 'g': 1.0, 'b': 1.0, 'a': 1.0}, {'r': 0.4, 'g': 0.55, 'b': 0.55, 'a': 1.0}, {'r': 0.86, 'g': 0.86, 'b': 0.86, 'a': 1.0}, {'r': 1.0, 'g': 0.85, 'b': 0.73, 'a': 1.0}, {'r': 1.0, 'g': 0.98, 'b': 0.8, 'a': 1.0}, {'r': 0.94, 'g': 1.0, 'b': 0.94, 'a': 1.0}, {'r': 1.0, 'g': 0.89, 'b': 0.88, 'a': 1.0}, {'r': 0.0, 'g': 0.53, 'b': 0.55, 'a': 1.0}, {'r': 1.0, 'g': 0.5, 'b': 0.14, 'a': 1.0}, {'r': 1.0, 'g': 0.76, 'b': 0.76, 'a': 1.0}, {'r': 0.18, 'g': 0.31, 'b': 0.31, 'a': 1.0}, {'r': 0.5, 'g': 1.0, 'b': 0.83, 'a': 1.0}, {'r': 0.8, 'g': 0.52, 'b': 0.25, 'a': 1.0}, {'r': 0.93, 'g': 0.93, 'b': 0.0, 'a': 1.0}, {'r': 0.0, 'g': 0.0, 'b': 0.5, 'a': 1.0}, {'r': 0.41, 'g': 0.55, 'b': 0.41, 'a': 1.0}, {'r': 1.0, 'g': 0.76, 'b': 0.76, 'a': 1.0}, {'r': 0.0, 'g': 0.0, 'b': 1.0, 'a': 1.0}, {'r': 0.0, 'g': 0.55, 'b': 0.0, 'a': 1.0}]\n",
    "import random\n",
    "def randomColor():\n",
    "    return random.choice(randomcolorList)"
   ]
  },
  {
   "cell_type": "code",
   "execution_count": 8,
   "metadata": {
    "collapsed": true
   },
   "outputs": [],
   "source": [
    "import copy\n",
    "objectList=copy.deepcopy(predicates[\"objects\"])\n",
    "stages=copy.deepcopy(predicates[\"stages\"])\n",
    "predicates_rules=animation_profile[\"predicates_rules\"]"
   ]
  },
  {
   "cell_type": "code",
   "execution_count": 17,
   "metadata": {},
   "outputs": [
    {
     "name": "stdout",
     "output_type": "stream",
     "text": [
      "['a', 'b', 'c', 'd', 'e']\n",
      "['a', 'b', 'c', 'd', 'e']\n",
      "['a', 'b', 'c', 'd', 'e']\n"
     ]
    }
   ],
   "source": [
    "\n",
    "\n"
   ]
  },
  {
   "cell_type": "code",
   "execution_count": 18,
   "metadata": {
    "collapsed": true
   },
   "outputs": [],
   "source": [
    "def initialObjects(objectList,animation_profile):\n",
    "    unsolvedObjects={}\n",
    "    for objectname in objectList:\n",
    "        unsolvedObjects[objectname]={}\n",
    "        objType=animation_profile[\"objects\"][\"default\"]\n",
    "        #update the value for each \n",
    "        for objproperty in animation_profile[\"shape\"][objType]:\n",
    "            value=animation_profile[\"shape\"][objType][objproperty]\n",
    "            if value is not False:\n",
    "                if value ==\"randomcolor\":\n",
    "                    unsolvedObjects[objectname][objproperty]=randomColor()\n",
    "                    continue\n",
    "                unsolvedObjects[objectname][objproperty]=value\n",
    "            else:\n",
    "                unsolvedObjects[objectname][objproperty]=False\n",
    "        unsolvedObjects[objectname][\"name\"]=objectname\n",
    "    return unsolvedObjects"
   ]
  },
  {
   "cell_type": "code",
   "execution_count": 20,
   "metadata": {},
   "outputs": [],
   "source": [
    "objectsDic=initialObjects(objectList,animation_profile)"
   ]
  },
  {
   "cell_type": "code",
   "execution_count": 21,
   "metadata": {
    "collapsed": true
   },
   "outputs": [],
   "source": [
    "def initalspace(size):\n",
    "    array=[]\n",
    "    for i in range(size):\n",
    "        array.append(i)\n",
    "    return array\n",
    "space = initalspace(len(objectList))\n",
    "\n",
    "def distribute(obj,space,spacebtw,width,remove):\n",
    "    if not remove:\n",
    "        if obj in space:\n",
    "            objindex=space.index(obj)\n",
    "            return objindex*(width+spacebtw)\n",
    "        else:\n",
    "            for num in range(len(space)):\n",
    "                if num==space[num]:\n",
    "                    space[num]=obj\n",
    "                    return num*(width+spacebtw)\n",
    "    else:\n",
    "        if obj in space:\n",
    "            objindex=space.index(obj)\n",
    "            space[objindex]=objindex\n",
    "            return True\n",
    "        else:\n",
    "            return False"
   ]
  },
  {
   "cell_type": "code",
   "execution_count": 22,
   "metadata": {
    "collapsed": true
   },
   "outputs": [],
   "source": [
    "def check_rule_complete(predicate,objectsDic,predicates_rules):\n",
    "    predicatename=predicate[\"name\"]\n",
    "    objectnamelist=predicate[\"objectNames\"]\n",
    "    predicate_rule=predicates_rules[predicatename]\n",
    "    for rulename in predicate_rule[\"rules\"]:\n",
    "        rule=predicate_rule[rulename]\n",
    "        for key in rule:\n",
    "            #0 is on the left side of equation\n",
    "            if key != \"value\" and key !=\"0\":\n",
    "                property_check=rule[key]\n",
    "                objectname=objectnamelist[int(key)]\n",
    "                if objectsDic[objectname][property_check] is False:\n",
    "                    return False\n",
    "    return True"
   ]
  },
  {
   "cell_type": "code",
   "execution_count": null,
   "metadata": {
    "collapsed": true
   },
   "outputs": [],
   "source": [
    "def applypredicates(predicate,objectsDic,predicates_rules):\n",
    "    pname=predicate[\"name\"]\n",
    "    objects=predicate[\"objectNames\"]\n",
    "    left=objects[0]\n",
    "    for rulename in predicates_rules[pname][\"rules\"]:\n",
    "        propertyname=predicates_rules[pname][rulename][\"0\"]\n",
    "        value=predicates_rules[pname][rulename][\"value\"]\n",
    "        rule=predicates_rules[pname][rulename]\n",
    "        if \"function\" in value:\n",
    "            if value[\"function\"]==\"distributex\":\n",
    "                objectsDic[left][propertyname]=distribute(left,space,20,80,False)\n",
    "        elif \"equal\" in value:\n",
    "            right_value=value[\"equal\"]\n",
    "            if right_value in rule:\n",
    "                right_proterpy=rule[right_value]\n",
    "                right_object=objects[int(right_value)]\n",
    "                objectsDic[left][propertyname]=objectsDic[right_object][right_proterpy]\n",
    "            else:\n",
    "                objectsDic[left][propertyname]=right_value\n",
    "                \n",
    "        elif \"add\" in value:\n",
    "            rightvalue=0\n",
    "            for additem in value[\"add\"]:\n",
    "                if additem in rule:\n",
    "                    right_property=rule[additem]\n",
    "                    right_object=objects[int(additem)]\n",
    "                    addvalue=objectsDic[right_object][right_property]\n",
    "                    rightvalue+=addvalue\n",
    "                else:\n",
    "                    rightvalue+=additem\n",
    "            objectsDic[left][propertyname]=rightvalue"
   ]
  }
 ],
 "metadata": {
  "kernelspec": {
   "display_name": "Python 3",
   "language": "python",
   "name": "python3"
  },
  "language_info": {
   "codemirror_mode": {
    "name": "ipython",
    "version": 3
   },
   "file_extension": ".py",
   "mimetype": "text/x-python",
   "name": "python",
   "nbconvert_exporter": "python",
   "pygments_lexer": "ipython3",
   "version": "3.6.1"
  }
 },
 "nbformat": 4,
 "nbformat_minor": 2
}
