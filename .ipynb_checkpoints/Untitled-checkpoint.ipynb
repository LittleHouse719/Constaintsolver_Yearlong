{
 "cells": [
  {
   "cell_type": "code",
   "execution_count": 168,
   "metadata": {},
   "outputs": [],
   "source": [
    "animation={\"block\":[\"name\",\"shape\",\"isShowName\",\"x\",\"y\",\"color\",\"size\"],\"objects\":{\"objectname\":[\"a\",\"b\",\"c\",\"d\",\"e\"],\"type\":\"block\"}}"
   ]
  },
  {
   "cell_type": "code",
   "execution_count": 169,
   "metadata": {},
   "outputs": [],
   "source": [
    "objectlist={}\n",
    "for object in animation[\"objects\"][\"objectname\"]:\n",
    "    objectlist[object]={}\n",
    "    objtype=animation[\"objects\"][\"type\"]\n",
    "    for property in animation[objtype]:\n",
    "        objectlist[object][property]=False\n",
    "    objectlist[object][\"name\"]=object"
   ]
  },
  {
   "cell_type": "code",
   "execution_count": 170,
   "metadata": {},
   "outputs": [
    {
     "name": "stdout",
     "output_type": "stream",
     "text": [
      "{'a': {'name': 'a', 'shape': False, 'isShowName': False, 'x': False, 'y': False, 'color': False, 'size': False}, 'b': {'name': 'b', 'shape': False, 'isShowName': False, 'x': False, 'y': False, 'color': False, 'size': False}, 'c': {'name': 'c', 'shape': False, 'isShowName': False, 'x': False, 'y': False, 'color': False, 'size': False}, 'd': {'name': 'd', 'shape': False, 'isShowName': False, 'x': False, 'y': False, 'color': False, 'size': False}, 'e': {'name': 'e', 'shape': False, 'isShowName': False, 'x': False, 'y': False, 'color': False, 'size': False}}\n"
     ]
    }
   ],
   "source": [
    "print(objectlist)"
   ]
  },
  {
   "cell_type": "code",
   "execution_count": null,
   "metadata": {},
   "outputs": [],
   "source": [
    "\n"
   ]
  },
  {
   "cell_type": "code",
   "execution_count": 51,
   "metadata": {
    "collapsed": true
   },
   "outputs": [],
   "source": [
    "def initalspace(size):\n",
    "    array=[]\n",
    "    for i in range(size):\n",
    "        array.append(i)\n",
    "    return array"
   ]
  },
  {
   "cell_type": "code",
   "execution_count": 108,
   "metadata": {},
   "outputs": [
    {
     "name": "stdout",
     "output_type": "stream",
     "text": [
      "[0, 1, 2, 3, 4]\n"
     ]
    }
   ],
   "source": [
    "space = initalspace(5)"
   ]
  },
  {
   "cell_type": "code",
   "execution_count": 88,
   "metadata": {},
   "outputs": [],
   "source": [
    "def distribute(obj,space,spacebtw,width,remove):\n",
    "    if not remove:\n",
    "        if obj in space:\n",
    "            objindex=space.index(obj)\n",
    "            return objindex*(width+spacebtw)\n",
    "        else:\n",
    "            for num in range(len(space)):\n",
    "                if num==space[num]:\n",
    "                    space[num]=obj\n",
    "                    return num*(width+spacebtw)\n",
    "    else:\n",
    "        if obj in space:\n",
    "            objindex=space.index(obj)\n",
    "            space[objindex]=objindex\n",
    "            return True\n",
    "        else:\n",
    "            return False"
   ]
  },
  {
   "cell_type": "code",
   "execution_count": null,
   "metadata": {},
   "outputs": [],
   "source": []
  },
  {
   "cell_type": "code",
   "execution_count": 124,
   "metadata": {},
   "outputs": [],
   "source": [
    "animationp={\n",
    "  \"on\": {\n",
    "    \"numvar\": 2,\n",
    "    \"rules\": [\n",
    "      \"rule1\",\n",
    "      \"rule2\"\n",
    "    ],\n",
    "    \"rule1\": {\n",
    "      \"0\": \"x\",\n",
    "      \"1\": \"x\",\n",
    "      \"value\": {\n",
    "        \"equal\": \"1\"\n",
    "      }\n",
    "    },\n",
    "    \"rule2\": {\n",
    "      \"0\": \"y\",\n",
    "      \"1\": \"y\",\n",
    "      \"value\": {\n",
    "        \"add\": [\n",
    "          \"1\",\n",
    "          50\n",
    "        ]\n",
    "      }\n",
    "    }\n",
    "  },\n",
    "  \"on-table\": {\n",
    "    \"predictes\": \"on-table\",\n",
    "    \"numvar\": 1,\n",
    "    \"rules\": [\n",
    "      \"rule1\",\n",
    "      \"rule2\"\n",
    "    ],\n",
    "    \"rule1\": {\n",
    "      \"0\": \"x\",\n",
    "      \"value\": {\n",
    "        \"function\": \"distributex\"\n",
    "      }\n",
    "    },\n",
    "    \"rule2\": {\n",
    "      \"0\": \"y\",\n",
    "      \"value\": {\n",
    "        \"equal\": 500\n",
    "      }\n",
    "    }\n",
    "  }\n",
    "}"
   ]
  },
  {
   "cell_type": "code",
   "execution_count": 182,
   "metadata": {},
   "outputs": [],
   "source": [
    "# predicates={\"name\":\"on-table\",\"objectNames\":[\"b\"]}\n",
    "predicates={\"name\":\"on\",\"objectNames\":[\"a\",\"b\"]}"
   ]
  },
  {
   "cell_type": "code",
   "execution_count": 198,
   "metadata": {},
   "outputs": [
    {
     "name": "stdout",
     "output_type": "stream",
     "text": [
      "50\n"
     ]
    }
   ],
   "source": [
    "pname=predicates[\"name\"]\n",
    "objects=predicates[\"objectNames\"]\n",
    "left=objects[0]\n",
    "for rulename in animationp[pname][\"rules\"]:\n",
    "    propertyname=animationp[pname][rulename][\"0\"]\n",
    "    value=animationp[pname][rulename][\"value\"]\n",
    "    rule=animationp[pname][rulename]\n",
    "    if \"function\" in value:\n",
    "        if value[\"function\"]==\"distributex\":\n",
    "            objectlist[left][propertyname]=distribute(left,space,20,80,False)\n",
    "    elif \"equal\" in value:\n",
    "        right_value=value[\"equal\"]\n",
    "        if right_value in rule:\n",
    "            right_proterpy=rule[right_value]\n",
    "            right_object=objects[int(right_value)]\n",
    "            objectlist[left][propertyname]=objectlist[right_object][right_proterpy]\n",
    "        else:\n",
    "            right_proterpy=right_value\n",
    "    elif \"add\" in value:\n",
    "        rightvalue=0\n",
    "        for additem in value[\"add\"]:\n",
    "            if additem in rule:\n",
    "                right_property=rule[additem]\n",
    "                right_object=objects[int(additem)]\n",
    "                addvalue=objectlist[right_object][right_property]\n",
    "                rightvalue+=addvalue\n",
    "            else:\n",
    "                rightvalue+=additem\n",
    "        objectlist[left][propertyname]=rightvalue"
   ]
  },
  {
   "cell_type": "code",
   "execution_count": 199,
   "metadata": {},
   "outputs": [
    {
     "name": "stdout",
     "output_type": "stream",
     "text": [
      "{'a': {'name': 'a', 'shape': False, 'isShowName': False, 'x': 100, 'y': 550, 'color': False, 'size': False}, 'b': {'name': 'b', 'shape': False, 'isShowName': False, 'x': 100, 'y': 500, 'color': False, 'size': False}, 'c': {'name': 'c', 'shape': False, 'isShowName': False, 'x': False, 'y': False, 'color': False, 'size': False}, 'd': {'name': 'd', 'shape': False, 'isShowName': False, 'x': False, 'y': False, 'color': False, 'size': False}, 'e': {'name': 'e', 'shape': False, 'isShowName': False, 'x': False, 'y': False, 'color': False, 'size': False}}\n"
     ]
    }
   ],
   "source": [
    "print(objectlist)"
   ]
  },
  {
   "cell_type": "code",
   "execution_count": 184,
   "metadata": {},
   "outputs": [],
   "source": [
    "def check_rule_complete(predicate):\n",
    "    predicatename=predicate[\"name\"]\n",
    "    objectnamelist=predicate[\"objectNames\"]\n",
    "    predicate_rule=animationp[predicatename]\n",
    "    for rulename in predicate_rule[\"rules\"]:\n",
    "        rule=predicate_rule[rulename]\n",
    "        for key in rule:\n",
    "            if key != \"value\" and key !=\"0\":\n",
    "                property_check=rule[key]\n",
    "                objectname=objectnamelist[int(key)]\n",
    "                if not objectlist[objectname][property_check]:\n",
    "                    return False\n",
    "    return True\n",
    "                \n",
    "    "
   ]
  },
  {
   "cell_type": "code",
   "execution_count": 200,
   "metadata": {},
   "outputs": [
    {
     "data": {
      "text/plain": [
       "True"
      ]
     },
     "execution_count": 200,
     "metadata": {},
     "output_type": "execute_result"
    }
   ],
   "source": [
    "check_rule_complete(predicates)"
   ]
  },
  {
   "cell_type": "code",
   "execution_count": 204,
   "metadata": {
    "collapsed": true
   },
   "outputs": [],
   "source": [
    "a={1:2}"
   ]
  },
  {
   "cell_type": "code",
   "execution_count": 205,
   "metadata": {},
   "outputs": [
    {
     "name": "stdout",
     "output_type": "stream",
     "text": [
      "2\n"
     ]
    }
   ],
   "source": [
    "print(a[1])"
   ]
  },
  {
   "cell_type": "code",
   "execution_count": null,
   "metadata": {
    "collapsed": true
   },
   "outputs": [],
   "source": []
  }
 ],
 "metadata": {
  "kernelspec": {
   "display_name": "Python 3",
   "language": "python",
   "name": "python3"
  },
  "language_info": {
   "codemirror_mode": {
    "name": "ipython",
    "version": 3
   },
   "file_extension": ".py",
   "mimetype": "text/x-python",
   "name": "python",
   "nbconvert_exporter": "python",
   "pygments_lexer": "ipython3",
   "version": "3.6.1"
  }
 },
 "nbformat": 4,
 "nbformat_minor": 2
}
