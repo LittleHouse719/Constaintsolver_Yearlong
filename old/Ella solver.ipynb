{
 "cells": [
  {
   "cell_type": "code",
   "execution_count": 126,
   "metadata": {
    "collapsed": true
   },
   "outputs": [],
   "source": [
    "import json\n",
    "animation='{\"objects\":{\"default\":\"Block\"},\"shape\":{\"Block\":{\"prefab\":\"Block\",\"showName\":true,\"x\":false,\"y\":false,\"color\":\"randomcolor\",\"width\":80,\"height\":40}},\"predicates_rules\":{\"on\":{\"rules\":[\"rule1\",\"rule2\"],\"rule1\":{\"0\":\"x\",\"1\":\"x\",\"value\":{\"equal\":\"1\"}},\"rule2\":{\"0\":\"y\",\"1\":\"y\",\"value\":{\"add\":[\"1\",42]}}},\"on-table\":{\"predictes\":\"on-table\",\"numvar\":1,\"rules\":[\"rule1\",\"rule2\"],\"rule1\":{\"0\":\"x\",\"value\":{\"function\":\"distributex\"}},\"rule2\":{\"0\":\"y\",\"value\":{\"equal\":0}}},\"holding\":{\"rules\":[\"rule1\",\"rule2\"],\"rule1\":{\"0\":\"y\",\"value\":{\"equal\":480}},\"rule2\":{\"0\":\"x\",\"value\":{\"equal\":250}}}}}'\n",
    "animation=json.loads(animation)"
   ]
  },
  {
   "cell_type": "code",
   "execution_count": null,
   "metadata": {
    "collapsed": true
   },
   "outputs": [],
   "source": []
  },
  {
   "cell_type": "code",
   "execution_count": 127,
   "metadata": {
    "collapsed": true
   },
   "outputs": [],
   "source": [
    "# randomcolorList=[{'r': 187, 'g':255, 'b': 255, 'a': 1.0},{'r': 102, 'g': 139, 'b': 139, 'a': 1.0},{'r': 220, 'g': 220, 'b': 220, 'a': 1.0},{'r': 255, 'g': 218, 'b': 185, 'a': 1.0},\n",
    "# {'r': 255, 'g': 250, 'b': 205, 'a': 1.0},{'r': 240, 'g': 255, 'b': 240, 'a': 1.0},{'r': 255, 'g': 228, 'b': 225, 'a': 1.0},{'r': 0, 'g': 134, 'b': 139, 'a': 1.0},\n",
    "# {'r': 255, 'g': 127, 'b': 36, 'a': 1.0},{'r': 255, 'g': 193, 'b': 193, 'a': 1.0},{'r': 47, 'g': 79, 'b': 79, 'a': 1.0},{'r': 127, 'g': 255, 'b': 212, 'a': 1.0},\n",
    "# {'r': 205, 'g': 133, 'b': 63, 'a': 1.0},{'r': 238, 'g': 238, 'b': 0, 'a': 1.0},{'r': 0, 'g': 0, 'b': 128, 'a': 1.0},{'r': 105, 'g': 139, 'b': 105, 'a': 1.0},\n",
    "# {'r': 255, 'g': 193, 'b': 193, 'a': 1.0},{'r': 0, 'g': 0, 'b': 255, 'a': 1.0},{'r': 0, 'g': 139, 'b': 0, 'a': 1.0}]\n",
    "# for item in randomcolorList:\n",
    "#     item['r']=round(item['r']/255,2)\n",
    "#     item['g']=round(item['g']/255,2)\n",
    "#     item['b']=round(item['b']/255,2)\n",
    "#     item['a']=1.0    "
   ]
  },
  {
   "cell_type": "code",
   "execution_count": 128,
   "metadata": {
    "collapsed": true
   },
   "outputs": [],
   "source": [
    "# import random\n",
    "# def randomColor():\n",
    "#     r=round(random.random(),1)\n",
    "#     g=round(random.random(),1)\n",
    "#     b=round(random.random(),1)\n",
    "#     a=1.0\n",
    "#     return {\"r\":r,\"g\":g,\"b\":b,\"a\":a}\n",
    "# print(randomColor())\n",
    "\n",
    "randomcolorList=[{'r': 0.73, 'g': 1.0, 'b': 1.0, 'a': 1.0}, {'r': 0.4, 'g': 0.55, 'b': 0.55, 'a': 1.0}, {'r': 0.86, 'g': 0.86, 'b': 0.86, 'a': 1.0}, {'r': 1.0, 'g': 0.85, 'b': 0.73, 'a': 1.0}, {'r': 1.0, 'g': 0.98, 'b': 0.8, 'a': 1.0}, {'r': 0.94, 'g': 1.0, 'b': 0.94, 'a': 1.0}, {'r': 1.0, 'g': 0.89, 'b': 0.88, 'a': 1.0}, {'r': 0.0, 'g': 0.53, 'b': 0.55, 'a': 1.0}, {'r': 1.0, 'g': 0.5, 'b': 0.14, 'a': 1.0}, {'r': 1.0, 'g': 0.76, 'b': 0.76, 'a': 1.0}, {'r': 0.18, 'g': 0.31, 'b': 0.31, 'a': 1.0}, {'r': 0.5, 'g': 1.0, 'b': 0.83, 'a': 1.0}, {'r': 0.8, 'g': 0.52, 'b': 0.25, 'a': 1.0}, {'r': 0.93, 'g': 0.93, 'b': 0.0, 'a': 1.0}, {'r': 0.0, 'g': 0.0, 'b': 0.5, 'a': 1.0}, {'r': 0.41, 'g': 0.55, 'b': 0.41, 'a': 1.0}, {'r': 1.0, 'g': 0.76, 'b': 0.76, 'a': 1.0}, {'r': 0.0, 'g': 0.0, 'b': 1.0, 'a': 1.0}, {'r': 0.0, 'g': 0.55, 'b': 0.0, 'a': 1.0}]\n",
    "import random\n",
    "def randomColor():\n",
    "    return random.choice(randomcolorList)\n",
    "# print(randomColor())\n",
    "# print(randomcolorList)\n"
   ]
  },
  {
   "cell_type": "code",
   "execution_count": 129,
   "metadata": {
    "collapsed": true
   },
   "outputs": [],
   "source": [
    "initialobjects=[\"a\",\"b\",\"c\",\"d\",\"e\"]\n",
    "objectlist={}\n",
    "for objectname in initialobjects:\n",
    "    objectlist[objectname]={}\n",
    "    objtype=animation[\"objects\"][\"default\"]\n",
    "    for objproperty in animation[\"shape\"][objtype]:\n",
    "        value=animation[\"shape\"][objtype][objproperty]\n",
    "        if value is not False:\n",
    "            if value ==\"randomcolor\":\n",
    "                objectlist[objectname][objproperty]=randomColor()\n",
    "                continue\n",
    "            objectlist[objectname][objproperty]=value\n",
    "        else:\n",
    "            objectlist[objectname][objproperty]=False\n",
    "    objectlist[objectname][\"name\"]=objectname"
   ]
  },
  {
   "cell_type": "code",
   "execution_count": 130,
   "metadata": {},
   "outputs": [
    {
     "data": {
      "text/plain": [
       "[{'r': 0.6, 'g': 0.5, 'b': 0.4, 'a': 1.0},\n",
       " {'r': 0.6, 'g': 0.5, 'b': 0.4, 'a': 1.0},\n",
       " {'r': 0.6, 'g': 0.5, 'b': 0.4, 'a': 1.0}]"
      ]
     },
     "execution_count": 130,
     "metadata": {},
     "output_type": "execute_result"
    }
   ],
   "source": [
    "[{'r': 0.6, 'g': 0.5, 'b': 0.4, 'a': 1.0},{'r': 0.6, 'g': 0.5, 'b': 0.4, 'a': 1.0},{'r': 0.6, 'g': 0.5, 'b': 0.4, 'a': 1.0}]"
   ]
  },
  {
   "cell_type": "code",
   "execution_count": 131,
   "metadata": {},
   "outputs": [
    {
     "name": "stdout",
     "output_type": "stream",
     "text": [
      "{'a': {'prefab': 'Block', 'showName': True, 'x': False, 'y': False, 'color': {'r': 0.18, 'g': 0.31, 'b': 0.31, 'a': 1.0}, 'width': 80, 'height': 40, 'name': 'a'}, 'b': {'prefab': 'Block', 'showName': True, 'x': False, 'y': False, 'color': {'r': 0.94, 'g': 1.0, 'b': 0.94, 'a': 1.0}, 'width': 80, 'height': 40, 'name': 'b'}, 'c': {'prefab': 'Block', 'showName': True, 'x': False, 'y': False, 'color': {'r': 1.0, 'g': 0.89, 'b': 0.88, 'a': 1.0}, 'width': 80, 'height': 40, 'name': 'c'}, 'd': {'prefab': 'Block', 'showName': True, 'x': False, 'y': False, 'color': {'r': 0.18, 'g': 0.31, 'b': 0.31, 'a': 1.0}, 'width': 80, 'height': 40, 'name': 'd'}, 'e': {'prefab': 'Block', 'showName': True, 'x': False, 'y': False, 'color': {'r': 1.0, 'g': 0.76, 'b': 0.76, 'a': 1.0}, 'width': 80, 'height': 40, 'name': 'e'}}\n"
     ]
    }
   ],
   "source": [
    "print(objectlist)"
   ]
  },
  {
   "cell_type": "code",
   "execution_count": 132,
   "metadata": {
    "collapsed": true
   },
   "outputs": [],
   "source": [
    "[0,1,2,3,4]\n",
    "[\"a\",1,2,3,4]\n",
    "\n",
    "def initalspace(size):\n",
    "    array=[]\n",
    "    for i in range(size):\n",
    "        array.append(i)\n",
    "    return array\n",
    "space = initalspace(5)\n",
    "\n",
    "def distribute(obj,space,spacebtw,width,remove):\n",
    "    if not remove:\n",
    "        if obj in space:\n",
    "            objindex=space.index(obj)\n",
    "            return objindex*(width+spacebtw)\n",
    "        else:\n",
    "            for num in range(len(space)):\n",
    "                if num==space[num]:\n",
    "                    space[num]=obj\n",
    "                    return num*(width+spacebtw)\n",
    "    else:\n",
    "        if obj in space:\n",
    "            objindex=space.index(obj)\n",
    "            space[objindex]=objindex\n",
    "            return True\n",
    "        else:\n",
    "            return False"
   ]
  },
  {
   "cell_type": "code",
   "execution_count": 133,
   "metadata": {
    "collapsed": true
   },
   "outputs": [],
   "source": [
    "animationp=animation[\"predicates_rules\"]"
   ]
  },
  {
   "cell_type": "code",
   "execution_count": 134,
   "metadata": {
    "collapsed": true
   },
   "outputs": [],
   "source": [
    "predicates=[\n",
    "         {\"name\":\"on-table\",\"objectNames\":[\"a\"]},\n",
    "         {\"name\":\"on-table\",\"objectNames\":[\"b\"]},\n",
    "         {\"name\":\"on-table\",\"objectNames\":[\"e\"]},\n",
    "         {\"name\":\"on-table\",\"objectNames\":[\"c\"]},\n",
    "         {\"name\":\"clear\",\"objectNames\":[\"a\"]},\n",
    "         {\"name\":\"clear\",\"objectNames\":[\"b\"]},\n",
    "         {\"name\":\"clear\",\"objectNames\":[\"e\"]},\n",
    "         {\"name\":\"clear\",\"objectNames\":[\"d\"]},\n",
    "         {\"name\":\"on\",\"objectNames\":[\"d\",\"c\"]},\n",
    "         {\"name\":\"arm-free\",\"objectNames\":[]}\n",
    "      ]"
   ]
  },
  {
   "cell_type": "code",
   "execution_count": 135,
   "metadata": {
    "collapsed": true
   },
   "outputs": [],
   "source": [
    "def check_rule_complete(predicate):\n",
    "    predicatename=predicate[\"name\"]\n",
    "    objectnamelist=predicate[\"objectNames\"]\n",
    "    predicate_rule=animationp[predicatename]\n",
    "    for rulename in predicate_rule[\"rules\"]:\n",
    "        rule=predicate_rule[rulename]\n",
    "        for key in rule:\n",
    "            #0 is on the left side of equation\n",
    "            if key != \"value\" and key !=\"0\":\n",
    "                property_check=rule[key]\n",
    "                objectname=objectnamelist[int(key)]\n",
    "                if objectlist[objectname][property_check] is False:\n",
    "                    return False\n",
    "    return True"
   ]
  },
  {
   "cell_type": "code",
   "execution_count": 136,
   "metadata": {},
   "outputs": [
    {
     "name": "stdout",
     "output_type": "stream",
     "text": [
      "True\n",
      "False\n"
     ]
    }
   ],
   "source": [
    "print(check_rule_complete({\"name\":\"on-table\",\"objectNames\":[\"b\"]}))\n",
    "print(check_rule_complete({\"name\":\"on\",\"objectNames\":[\"a\",\"b\"]}))"
   ]
  },
  {
   "cell_type": "code",
   "execution_count": 137,
   "metadata": {
    "collapsed": true
   },
   "outputs": [],
   "source": [
    "def applypredicates(predicate):\n",
    "    pname=predicate[\"name\"]\n",
    "    objects=predicate[\"objectNames\"]\n",
    "    left=objects[0]\n",
    "    for rulename in animationp[pname][\"rules\"]:\n",
    "        propertyname=animationp[pname][rulename][\"0\"]\n",
    "        value=animationp[pname][rulename][\"value\"]\n",
    "        rule=animationp[pname][rulename]\n",
    "        if \"function\" in value:\n",
    "            if value[\"function\"]==\"distributex\":\n",
    "                objectlist[left][propertyname]=distribute(left,space,20,80,False)\n",
    "        elif \"equal\" in value:\n",
    "            right_value=value[\"equal\"]\n",
    "            if right_value in rule:\n",
    "                right_proterpy=rule[right_value]\n",
    "                right_object=objects[int(right_value)]\n",
    "                objectlist[left][propertyname]=objectlist[right_object][right_proterpy]\n",
    "            else:\n",
    "                objectlist[left][propertyname]=right_value\n",
    "                \n",
    "        elif \"add\" in value:\n",
    "            rightvalue=0\n",
    "            for additem in value[\"add\"]:\n",
    "                if additem in rule:\n",
    "                    right_property=rule[additem]\n",
    "                    right_object=objects[int(additem)]\n",
    "                    addvalue=objectlist[right_object][right_property]\n",
    "                    rightvalue+=addvalue\n",
    "                else:\n",
    "                    rightvalue+=additem\n",
    "            objectlist[left][propertyname]=rightvalue"
   ]
  },
  {
   "cell_type": "code",
   "execution_count": 138,
   "metadata": {},
   "outputs": [
    {
     "data": {
      "text/plain": [
       "True"
      ]
     },
     "execution_count": 138,
     "metadata": {},
     "output_type": "execute_result"
    }
   ],
   "source": [
    "def solvepredicates(predicates):\n",
    "    while (len(predicates)>0):\n",
    "        predicate=predicates.pop(0)\n",
    "        if predicate[\"name\"] not in animationp:\n",
    "            continue\n",
    "        if check_rule_complete(predicate):\n",
    "            applypredicates(predicate)\n",
    "        else:\n",
    "            if len(predicates)==0:\n",
    "                return False\n",
    "            predicates.append(predicate)\n",
    "    return True\n",
    "solvepredicates(predicates)\n"
   ]
  },
  {
   "cell_type": "code",
   "execution_count": 139,
   "metadata": {
    "scrolled": true
   },
   "outputs": [
    {
     "name": "stdout",
     "output_type": "stream",
     "text": [
      "{\"visualSprites\": [{\"prefab\": \"Block\", \"showName\": true, \"x\": 0, \"y\": 0, \"color\": {\"r\": 0.18, \"g\": 0.31, \"b\": 0.31, \"a\": 1.0}, \"width\": 80, \"height\": 40, \"name\": \"a\", \"minX\": 0.0, \"maxX\": 0.16, \"minY\": 0.0, \"maxY\": 0.08}, {\"prefab\": \"Block\", \"showName\": true, \"x\": 100, \"y\": 0, \"color\": {\"r\": 0.94, \"g\": 1.0, \"b\": 0.94, \"a\": 1.0}, \"width\": 80, \"height\": 40, \"name\": \"b\", \"minX\": 0.2, \"maxX\": 0.36, \"minY\": 0.0, \"maxY\": 0.08}, {\"prefab\": \"Block\", \"showName\": true, \"x\": 300, \"y\": 0, \"color\": {\"r\": 1.0, \"g\": 0.89, \"b\": 0.88, \"a\": 1.0}, \"width\": 80, \"height\": 40, \"name\": \"c\", \"minX\": 0.6, \"maxX\": 0.76, \"minY\": 0.0, \"maxY\": 0.08}, {\"prefab\": \"Block\", \"showName\": true, \"x\": 300, \"y\": 42, \"color\": {\"r\": 0.18, \"g\": 0.31, \"b\": 0.31, \"a\": 1.0}, \"width\": 80, \"height\": 40, \"name\": \"d\", \"minX\": 0.6, \"maxX\": 0.76, \"minY\": 0.08, \"maxY\": 0.16}, {\"prefab\": \"Block\", \"showName\": true, \"x\": 200, \"y\": 0, \"color\": {\"r\": 1.0, \"g\": 0.76, \"b\": 0.76, \"a\": 1.0}, \"width\": 80, \"height\": 40, \"name\": \"e\", \"minX\": 0.4, \"maxX\": 0.56, \"minY\": 0.0, \"maxY\": 0.08}]}\n"
     ]
    }
   ],
   "source": [
    "def transfer():\n",
    "    # list that stores object name\n",
    "   \n",
    "    finalFile = {}\n",
    "    temp = []\n",
    "    # panel size\n",
    "    panelWidth = 500\n",
    "    panelHeight = 500\n",
    "    # dict that stores new position info\n",
    "    dictX = {\"minX\":\"\",\n",
    "            \"maxX\":\"\",\n",
    "            \"minY\":\"\",\n",
    "            \"maxY\":\"\"}\n",
    "    # new position info\n",
    "    minX = 0.0\n",
    "    maxX = 0.0\n",
    "    minY = 0.0\n",
    "    maxY = 0.0\n",
    "\n",
    "    # generate new json file\n",
    "    for i,object in enumerate(initialobjects):\n",
    "        temp.append(objectlist[object])\n",
    "        # get all information about position\n",
    "        xNum = objectlist[object][\"x\"]\n",
    "        yNum = objectlist[object][\"y\"]\n",
    "        width = objectlist[object][\"width\"]\n",
    "        height = objectlist[object][\"height\"]\n",
    "        # transfer the position info into position needed in Unity\n",
    "        minX = xNum/panelWidth\n",
    "        maxX = (xNum + width)/panelWidth\n",
    "        minY = yNum/panelHeight\n",
    "        maxY = (yNum + height)/panelHeight\n",
    "        dictX[\"minX\"] = round(minX,2)\n",
    "        dictX[\"maxX\"] = round(maxX,2)\n",
    "        dictX[\"minY\"] = round(minY,2)\n",
    "        dictX[\"maxY\"] = round(maxY,2)\n",
    "        # update the old dict\n",
    "        temp[i].update(dictX)\n",
    "        finalFile[\"visualSprites\"] = temp\n",
    "    return finalFile\n",
    "\n",
    "finalFile = transfer()   \n",
    "str = json.dumps(finalFile)\n",
    "print(str)"
   ]
  },
  {
   "cell_type": "code",
   "execution_count": 140,
   "metadata": {},
   "outputs": [
    {
     "name": "stdout",
     "output_type": "stream",
     "text": [
      "{\"a\": {\"prefab\": \"Block\", \"showName\": true, \"x\": 0, \"y\": 0, \"color\": {\"r\": 0.18, \"g\": 0.31, \"b\": 0.31, \"a\": 1.0}, \"width\": 80, \"height\": 40, \"name\": \"a\", \"minX\": 0.0, \"maxX\": 0.16, \"minY\": 0.0, \"maxY\": 0.08}, \"b\": {\"prefab\": \"Block\", \"showName\": true, \"x\": 100, \"y\": 0, \"color\": {\"r\": 0.94, \"g\": 1.0, \"b\": 0.94, \"a\": 1.0}, \"width\": 80, \"height\": 40, \"name\": \"b\", \"minX\": 0.2, \"maxX\": 0.36, \"minY\": 0.0, \"maxY\": 0.08}, \"c\": {\"prefab\": \"Block\", \"showName\": true, \"x\": 300, \"y\": 0, \"color\": {\"r\": 1.0, \"g\": 0.89, \"b\": 0.88, \"a\": 1.0}, \"width\": 80, \"height\": 40, \"name\": \"c\", \"minX\": 0.6, \"maxX\": 0.76, \"minY\": 0.0, \"maxY\": 0.08}, \"d\": {\"prefab\": \"Block\", \"showName\": true, \"x\": 300, \"y\": 42, \"color\": {\"r\": 0.18, \"g\": 0.31, \"b\": 0.31, \"a\": 1.0}, \"width\": 80, \"height\": 40, \"name\": \"d\", \"minX\": 0.6, \"maxX\": 0.76, \"minY\": 0.08, \"maxY\": 0.16}, \"e\": {\"prefab\": \"Block\", \"showName\": true, \"x\": 200, \"y\": 0, \"color\": {\"r\": 1.0, \"g\": 0.76, \"b\": 0.76, \"a\": 1.0}, \"width\": 80, \"height\": 40, \"name\": \"e\", \"minX\": 0.4, \"maxX\": 0.56, \"minY\": 0.0, \"maxY\": 0.08}}\n"
     ]
    }
   ],
   "source": [
    "# print(objectlist)\n",
    "final=json.dumps(objectlist)\n",
    "print(final)"
   ]
  },
  {
   "cell_type": "code",
   "execution_count": null,
   "metadata": {
    "collapsed": true
   },
   "outputs": [],
   "source": []
  },
  {
   "cell_type": "code",
   "execution_count": 141,
   "metadata": {
    "collapsed": true
   },
   "outputs": [],
   "source": [
    "result = '{\"visualStages\":[{\"visualSprites\":{\"a\":{\"prefab\":\"Block\",\"showName\":true,\"x\":0,\"y\":0,\"color\":{\"r\":0.5,\"g\":1,\"b\":0.83,\"a\":1},\"width\":80,\"height\":40,\"name\":\"a\"},\"b\":{\"prefab\":\"Block\",\"showName\":true,\"x\":100,\"y\":0,\"color\":{\"r\":0,\"g\":0.55,\"b\":0,\"a\":1},\"width\":80,\"height\":40,\"name\":\"b\"},\"c\":{\"prefab\":\"Block\",\"showName\":true,\"x\":300,\"y\":0,\"color\":{\"r\":0,\"g\":0.53,\"b\":0.55,\"a\":1},\"width\":80,\"height\":40,\"name\":\"c\"},\"d\":{\"prefab\":\"Block\",\"showName\":true,\"x\":300,\"y\":42,\"color\":{\"r\":0.86,\"g\":0.86,\"b\":0.86,\"a\":1},\"width\":80,\"height\":40,\"name\":\"d\"},\"e\":{\"prefab\":\"Block\",\"showName\":true,\"x\":200,\"y\":0,\"color\":{\"r\":0,\"g\":0.55,\"b\":0,\"a\":1},\"width\":80,\"height\":40,\"name\":\"e\"}}},{\"visualSprites\":{\"a\":{\"prefab\":\"Block\",\"showName\":true,\"x\":0,\"y\":0,\"color\":{\"r\":0.5,\"g\":1,\"b\":0.83,\"a\":1},\"width\":80,\"height\":40,\"name\":\"a\"},\"b\":{\"prefab\":\"Block\",\"showName\":true,\"x\":100,\"y\":0,\"color\":{\"r\":0,\"g\":0.55,\"b\":0,\"a\":1},\"width\":80,\"height\":40,\"name\":\"b\"},\"c\":{\"prefab\":\"Block\",\"showName\":true,\"x\":300,\"y\":0,\"color\":{\"r\":0,\"g\":0.53,\"b\":0.55,\"a\":1},\"width\":80,\"height\":40,\"name\":\"c\"},\"d\":{\"prefab\":\"Block\",\"showName\":true,\"x\":250,\"y\":480,\"color\":{\"r\":0.86,\"g\":0.86,\"b\":0.86,\"a\":1},\"width\":80,\"height\":40,\"name\":\"d\"},\"e\":{\"prefab\":\"Block\",\"showName\":true,\"x\":200,\"y\":0,\"color\":{\"r\":0,\"g\":0.55,\"b\":0,\"a\":1},\"width\":80,\"height\":40,\"name\":\"e\"}}}]}';"
   ]
  },
  {
   "cell_type": "code",
   "execution_count": 142,
   "metadata": {},
   "outputs": [
    {
     "name": "stdout",
     "output_type": "stream",
     "text": [
      "{'visualStages': [{'visualSprites': {'a': {'prefab': 'Block', 'showName': True, 'x': 0, 'y': 0, 'color': {'r': 0.5, 'g': 1, 'b': 0.83, 'a': 1}, 'width': 80, 'height': 40, 'name': 'a'}, 'b': {'prefab': 'Block', 'showName': True, 'x': 100, 'y': 0, 'color': {'r': 0, 'g': 0.55, 'b': 0, 'a': 1}, 'width': 80, 'height': 40, 'name': 'b'}, 'c': {'prefab': 'Block', 'showName': True, 'x': 300, 'y': 0, 'color': {'r': 0, 'g': 0.53, 'b': 0.55, 'a': 1}, 'width': 80, 'height': 40, 'name': 'c'}, 'd': {'prefab': 'Block', 'showName': True, 'x': 300, 'y': 42, 'color': {'r': 0.86, 'g': 0.86, 'b': 0.86, 'a': 1}, 'width': 80, 'height': 40, 'name': 'd'}, 'e': {'prefab': 'Block', 'showName': True, 'x': 200, 'y': 0, 'color': {'r': 0, 'g': 0.55, 'b': 0, 'a': 1}, 'width': 80, 'height': 40, 'name': 'e'}}}, {'visualSprites': {'a': {'prefab': 'Block', 'showName': True, 'x': 0, 'y': 0, 'color': {'r': 0.5, 'g': 1, 'b': 0.83, 'a': 1}, 'width': 80, 'height': 40, 'name': 'a'}, 'b': {'prefab': 'Block', 'showName': True, 'x': 100, 'y': 0, 'color': {'r': 0, 'g': 0.55, 'b': 0, 'a': 1}, 'width': 80, 'height': 40, 'name': 'b'}, 'c': {'prefab': 'Block', 'showName': True, 'x': 300, 'y': 0, 'color': {'r': 0, 'g': 0.53, 'b': 0.55, 'a': 1}, 'width': 80, 'height': 40, 'name': 'c'}, 'd': {'prefab': 'Block', 'showName': True, 'x': 250, 'y': 480, 'color': {'r': 0.86, 'g': 0.86, 'b': 0.86, 'a': 1}, 'width': 80, 'height': 40, 'name': 'd'}, 'e': {'prefab': 'Block', 'showName': True, 'x': 200, 'y': 0, 'color': {'r': 0, 'g': 0.55, 'b': 0, 'a': 1}, 'width': 80, 'height': 40, 'name': 'e'}}}]}\n"
     ]
    }
   ],
   "source": [
    "result = json.loads(result)\n",
    "print(result)"
   ]
  },
  {
   "cell_type": "code",
   "execution_count": 143,
   "metadata": {},
   "outputs": [
    {
     "name": "stdout",
     "output_type": "stream",
     "text": [
      "{\"visualSprites\": [{\"prefab\": \"Block\", \"showName\": true, \"x\": 0, \"y\": 0, \"color\": {\"r\": 0.18, \"g\": 0.31, \"b\": 0.31, \"a\": 1.0}, \"width\": 80, \"height\": 40, \"name\": \"a\", \"minX\": 0.0, \"maxX\": 0.16, \"minY\": 0.0, \"maxY\": 0.07}, {\"prefab\": \"Block\", \"showName\": true, \"x\": 100, \"y\": 0, \"color\": {\"r\": 0.94, \"g\": 1.0, \"b\": 0.94, \"a\": 1.0}, \"width\": 80, \"height\": 40, \"name\": \"b\", \"minX\": 0.2, \"maxX\": 0.36, \"minY\": 0.0, \"maxY\": 0.07}, {\"prefab\": \"Block\", \"showName\": true, \"x\": 300, \"y\": 0, \"color\": {\"r\": 1.0, \"g\": 0.89, \"b\": 0.88, \"a\": 1.0}, \"width\": 80, \"height\": 40, \"name\": \"c\", \"minX\": 0.6, \"maxX\": 0.76, \"minY\": 0.0, \"maxY\": 0.07}, {\"prefab\": \"Block\", \"showName\": true, \"x\": 300, \"y\": 42, \"color\": {\"r\": 0.18, \"g\": 0.31, \"b\": 0.31, \"a\": 1.0}, \"width\": 80, \"height\": 40, \"name\": \"d\", \"minX\": 0.6, \"maxX\": 0.76, \"minY\": 0.08, \"maxY\": 0.15}, {\"prefab\": \"Block\", \"showName\": true, \"x\": 200, \"y\": 0, \"color\": {\"r\": 1.0, \"g\": 0.76, \"b\": 0.76, \"a\": 1.0}, \"width\": 80, \"height\": 40, \"name\": \"e\", \"minX\": 0.4, \"maxX\": 0.56, \"minY\": 0.0, \"maxY\": 0.07}]}\n"
     ]
    }
   ],
   "source": [
    "def transfer(oneStep):\n",
    "    # list that stores object name\n",
    "    finalFile = {}\n",
    "    temp = []\n",
    "    # panel size\n",
    "    panelWidth = 500\n",
    "    panelHeight = 550\n",
    "    # dict that stores new position info\n",
    "    dictX = {\"minX\":\"\",\n",
    "            \"maxX\":\"\",\n",
    "            \"minY\":\"\",\n",
    "            \"maxY\":\"\"}\n",
    "    # new position info\n",
    "    minX = 0.0\n",
    "    maxX = 0.0\n",
    "    minY = 0.0\n",
    "    maxY = 0.0\n",
    "\n",
    "   \n",
    "    # generate new json file\n",
    "    for i,object in enumerate(initialobjects):\n",
    "        temp.append(oneStep[object])\n",
    "        # get all information about position\n",
    "        xNum = oneStep[object][\"x\"]\n",
    "        yNum = oneStep[object][\"y\"]\n",
    "        width = oneStep[object][\"width\"]\n",
    "        height = oneStep[object][\"height\"]\n",
    "        # transfer the position info into position needed in Unity\n",
    "        minX = xNum/panelWidth\n",
    "        maxX = (xNum + width)/panelWidth\n",
    "        minY = yNum/panelHeight\n",
    "        maxY = (yNum + height)/panelHeight\n",
    "        dictX[\"minX\"] = round(minX,2)\n",
    "        dictX[\"maxX\"] = round(maxX,2)\n",
    "        dictX[\"minY\"] = round(minY,2)\n",
    "        dictX[\"maxY\"] = round(maxY,2)\n",
    "        # update the old dict\n",
    "        temp[i].update(dictX)\n",
    "        finalFile[\"visualSprites\"] = temp\n",
    "    return finalFile\n",
    "\n",
    "finalFile = transfer(objectlist)   \n",
    "str = json.dumps(finalFile)\n",
    "print(str)\n",
    "#print(objectNameList)\n",
    "\n",
    "    "
   ]
  },
  {
   "cell_type": "code",
   "execution_count": 146,
   "metadata": {
    "scrolled": true
   },
   "outputs": [
    {
     "name": "stdout",
     "output_type": "stream",
     "text": [
      "{\"visualStages\": [{\"visualSprites\": [{\"prefab\": \"Block\", \"showName\": true, \"x\": 0, \"y\": 0, \"color\": {\"r\": 0.5, \"g\": 1, \"b\": 0.83, \"a\": 1}, \"width\": 80, \"height\": 40, \"name\": \"a\", \"minX\": 0.0, \"maxX\": 0.16, \"minY\": 0.0, \"maxY\": 0.07}, {\"prefab\": \"Block\", \"showName\": true, \"x\": 100, \"y\": 0, \"color\": {\"r\": 0, \"g\": 0.55, \"b\": 0, \"a\": 1}, \"width\": 80, \"height\": 40, \"name\": \"b\", \"minX\": 0.2, \"maxX\": 0.36, \"minY\": 0.0, \"maxY\": 0.07}, {\"prefab\": \"Block\", \"showName\": true, \"x\": 300, \"y\": 0, \"color\": {\"r\": 0, \"g\": 0.53, \"b\": 0.55, \"a\": 1}, \"width\": 80, \"height\": 40, \"name\": \"c\", \"minX\": 0.6, \"maxX\": 0.76, \"minY\": 0.0, \"maxY\": 0.07}, {\"prefab\": \"Block\", \"showName\": true, \"x\": 300, \"y\": 42, \"color\": {\"r\": 0.86, \"g\": 0.86, \"b\": 0.86, \"a\": 1}, \"width\": 80, \"height\": 40, \"name\": \"d\", \"minX\": 0.6, \"maxX\": 0.76, \"minY\": 0.08, \"maxY\": 0.15}, {\"prefab\": \"Block\", \"showName\": true, \"x\": 200, \"y\": 0, \"color\": {\"r\": 0, \"g\": 0.55, \"b\": 0, \"a\": 1}, \"width\": 80, \"height\": 40, \"name\": \"e\", \"minX\": 0.4, \"maxX\": 0.56, \"minY\": 0.0, \"maxY\": 0.07}]}, {\"visualSprites\": [{\"prefab\": \"Block\", \"showName\": true, \"x\": 0, \"y\": 0, \"color\": {\"r\": 0.5, \"g\": 1, \"b\": 0.83, \"a\": 1}, \"width\": 80, \"height\": 40, \"name\": \"a\", \"minX\": 0.0, \"maxX\": 0.16, \"minY\": 0.0, \"maxY\": 0.07}, {\"prefab\": \"Block\", \"showName\": true, \"x\": 100, \"y\": 0, \"color\": {\"r\": 0, \"g\": 0.55, \"b\": 0, \"a\": 1}, \"width\": 80, \"height\": 40, \"name\": \"b\", \"minX\": 0.2, \"maxX\": 0.36, \"minY\": 0.0, \"maxY\": 0.07}, {\"prefab\": \"Block\", \"showName\": true, \"x\": 300, \"y\": 0, \"color\": {\"r\": 0, \"g\": 0.53, \"b\": 0.55, \"a\": 1}, \"width\": 80, \"height\": 40, \"name\": \"c\", \"minX\": 0.6, \"maxX\": 0.76, \"minY\": 0.0, \"maxY\": 0.07}, {\"prefab\": \"Block\", \"showName\": true, \"x\": 250, \"y\": 480, \"color\": {\"r\": 0.86, \"g\": 0.86, \"b\": 0.86, \"a\": 1}, \"width\": 80, \"height\": 40, \"name\": \"d\", \"minX\": 0.5, \"maxX\": 0.66, \"minY\": 0.87, \"maxY\": 0.95}, {\"prefab\": \"Block\", \"showName\": true, \"x\": 200, \"y\": 0, \"color\": {\"r\": 0, \"g\": 0.55, \"b\": 0, \"a\": 1}, \"width\": 80, \"height\": 40, \"name\": \"e\", \"minX\": 0.4, \"maxX\": 0.56, \"minY\": 0.0, \"maxY\": 0.07}]}]}\n"
     ]
    }
   ],
   "source": [
    "list = []\n",
    "final = {\"visualStages\":[]}\n",
    "oneStep = {}\n",
    "spriteList = []\n",
    "list = result[\"visualStages\"]\n",
    "for i,step in enumerate(list):\n",
    "    oneStep = list[i][\"visualSprites\"]\n",
    "    #print(oneStep)\n",
    "    spriteList.append(transfer(oneStep))\n",
    "    final[\"visualStages\"] = spriteList\n",
    "    #print(transfer(oneStep))\n",
    "jsonfile = json.dumps(final)\n",
    "print(jsonfile)\n"
   ]
  },
  {
   "cell_type": "code",
   "execution_count": null,
   "metadata": {
    "collapsed": true
   },
   "outputs": [],
   "source": []
  },
  {
   "cell_type": "code",
   "execution_count": null,
   "metadata": {
    "collapsed": true
   },
   "outputs": [],
   "source": []
  },
  {
   "cell_type": "code",
   "execution_count": null,
   "metadata": {
    "collapsed": true
   },
   "outputs": [],
   "source": []
  }
 ],
 "metadata": {
  "kernelspec": {
   "display_name": "Python 3",
   "language": "python",
   "name": "python3"
  },
  "language_info": {
   "codemirror_mode": {
    "name": "ipython",
    "version": 3
   },
   "file_extension": ".py",
   "mimetype": "text/x-python",
   "name": "python",
   "nbconvert_exporter": "python",
   "pygments_lexer": "ipython3",
   "version": "3.6.1"
  }
 },
 "nbformat": 4,
 "nbformat_minor": 2
}
