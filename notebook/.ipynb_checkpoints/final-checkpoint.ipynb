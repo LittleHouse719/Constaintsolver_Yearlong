{
 "cells": [
  {
   "cell_type": "code",
   "execution_count": 1,
   "metadata": {},
   "outputs": [
    {
     "ename": "ModuleNotFoundError",
     "evalue": "No module named 'random_color'",
     "output_type": "error",
     "traceback": [
      "\u001b[0;31m---------------------------------------------------------------------------\u001b[0m",
      "\u001b[0;31mModuleNotFoundError\u001b[0m                       Traceback (most recent call last)",
      "\u001b[0;32m<ipython-input-1-6826a767d9ce>\u001b[0m in \u001b[0;36m<module>\u001b[0;34m()\u001b[0m\n\u001b[1;32m      1\u001b[0m \u001b[0;32mimport\u001b[0m \u001b[0mjson\u001b[0m\u001b[0;34m\u001b[0m\u001b[0m\n\u001b[0;32m----> 2\u001b[0;31m \u001b[0;32mimport\u001b[0m \u001b[0mrandom_color\u001b[0m\u001b[0;34m\u001b[0m\u001b[0m\n\u001b[0m\u001b[1;32m      3\u001b[0m \u001b[0;32mimport\u001b[0m \u001b[0mcopy\u001b[0m\u001b[0;34m\u001b[0m\u001b[0m\n\u001b[1;32m      4\u001b[0m \u001b[0;32mimport\u001b[0m \u001b[0mcustom_functions\u001b[0m\u001b[0;34m\u001b[0m\u001b[0m\n\u001b[1;32m      5\u001b[0m \u001b[0mpfile\u001b[0m\u001b[0;34m=\u001b[0m\u001b[0;34m\"predicates.json\"\u001b[0m\u001b[0;34m;\u001b[0m\u001b[0;34m\u001b[0m\u001b[0m\n",
      "\u001b[0;31mModuleNotFoundError\u001b[0m: No module named 'random_color'"
     ]
    }
   ],
   "source": [
    "import json\n",
    "import random_color \n",
    "import copy\n",
    "import custom_functions\n",
    "pfile=\"predicates.json\";\n",
    "apfile=\"animationprofile.json\"\n",
    "f = open(pfile)\n",
    "content = f.read()\n",
    "predicates=json.loads(content)\n",
    "\n",
    "f1=open(apfile)\n",
    "content1=f1.read()\n",
    "animation_profile=json.loads(content1)"
   ]
  },
  {
   "cell_type": "code",
   "execution_count": 89,
   "metadata": {
    "collapsed": true
   },
   "outputs": [],
   "source": [
    "objectList=copy.deepcopy(predicates[\"objects\"])\n",
    "stages=copy.deepcopy(predicates[\"stages\"])\n",
    "predicates_rules=animation_profile[\"predicates_rules\"]"
   ]
  },
  {
   "cell_type": "code",
   "execution_count": 90,
   "metadata": {
    "collapsed": true
   },
   "outputs": [],
   "source": [
    "def initialObjects(objectList,animation_profile):\n",
    "    unsolvedObjects={}\n",
    "    for objectname in objectList:\n",
    "        unsolvedObjects[objectname]={}\n",
    "        objType=animation_profile[\"objects\"][\"default\"]\n",
    "        #update the value for each \n",
    "        for objproperty in animation_profile[\"shape\"][objType]:\n",
    "            value=animation_profile[\"shape\"][objType][objproperty]\n",
    "            if value is not False:\n",
    "                if value ==\"randomcolor\":\n",
    "                    unsolvedObjects[objectname][objproperty]=random_color.get_random_color()\n",
    "                    continue\n",
    "                unsolvedObjects[objectname][objproperty]=value\n",
    "            else:\n",
    "                unsolvedObjects[objectname][objproperty]=False\n",
    "        unsolvedObjects[objectname][\"name\"]=objectname\n",
    "    return unsolvedObjects"
   ]
  },
  {
   "cell_type": "code",
   "execution_count": 91,
   "metadata": {
    "collapsed": true
   },
   "outputs": [],
   "source": [
    "objectsDic=initialObjects(objectList,animation_profile)\n",
    "objectsDic[\"Claw\"]={\"name\":\"Claw\",\"prefab\":\"Claw\",\"color\":{\"r\":0.0,\"g\":0.0,\"b\":0.0,\"a\":1.0},\"showName\":False,\"x\":230,\"y\":500,\"width\":80,\"height\":40}"
   ]
  },
  {
   "cell_type": "code",
   "execution_count": 92,
   "metadata": {
    "collapsed": true
   },
   "outputs": [],
   "source": [
    "space = custom_functions.init_space(len(objectList))"
   ]
  },
  {
   "cell_type": "code",
   "execution_count": 93,
   "metadata": {
    "collapsed": true
   },
   "outputs": [],
   "source": [
    "def check_rule_complete(predicate,objectsDic,predicates_rules):\n",
    "    predicatename=predicate[\"name\"]\n",
    "    objectnamelist=predicate[\"objectNames\"]\n",
    "    predicate_rule=predicates_rules[predicatename]\n",
    "    for rulename in predicate_rule[\"rules\"]:\n",
    "        rule=predicate_rule[rulename]\n",
    "        for key in rule:\n",
    "            #0 is on the left side of equation\n",
    "            if key != \"value\" and key !=\"0\":\n",
    "                property_check=rule[key]\n",
    "                objectname=objectnamelist[int(key)]\n",
    "                if objectsDic[objectname][property_check] is False:\n",
    "                    return False\n",
    "    return True"
   ]
  },
  {
   "cell_type": "code",
   "execution_count": 94,
   "metadata": {
    "collapsed": true
   },
   "outputs": [],
   "source": [
    "def applypredicates(predicate,objectsDic,predicates_rules):\n",
    "    pname=predicate[\"name\"]\n",
    "    objects=predicate[\"objectNames\"]\n",
    "    left=objects[0]\n",
    "    for rulename in predicates_rules[pname][\"rules\"]:\n",
    "        propertyname=predicates_rules[pname][rulename][\"0\"]\n",
    "        value=predicates_rules[pname][rulename][\"value\"]\n",
    "        rule=predicates_rules[pname][rulename]\n",
    "        if \"function\" in value:\n",
    "            if value[\"function\"]==\"distributex\":\n",
    "                objectsDic[left][propertyname]=custom_functions.distributex(left,space,20,80,False)\n",
    "        elif \"equal\" in value:\n",
    "            right_value=value[\"equal\"]\n",
    "            if right_value in rule:\n",
    "                right_proterpy=rule[right_value]\n",
    "                right_object=objects[int(right_value)]\n",
    "                objectsDic[left][propertyname]=objectsDic[right_object][right_proterpy]\n",
    "            else:\n",
    "                objectsDic[left][propertyname]=right_value\n",
    "                \n",
    "        elif \"add\" in value:\n",
    "            rightvalue=0\n",
    "            for additem in value[\"add\"]:\n",
    "                if additem in rule:\n",
    "                    right_property=rule[additem]\n",
    "                    right_object=objects[int(additem)]\n",
    "                    addvalue=objectsDic[right_object][right_property]\n",
    "                    rightvalue+=addvalue\n",
    "                else:\n",
    "                    rightvalue+=additem\n",
    "            objectsDic[left][propertyname]=rightvalue"
   ]
  },
  {
   "cell_type": "code",
   "execution_count": 95,
   "metadata": {
    "collapsed": true
   },
   "outputs": [],
   "source": [
    "def solvepredicates(predicates,objectsDic,predicates_rules):\n",
    "    while (len(predicates)>0):\n",
    "        predicate=predicates.pop(0)\n",
    "        if predicate[\"name\"] not in predicates_rules:\n",
    "            continue\n",
    "        if check_rule_complete(predicate,objectsDic,predicates_rules):\n",
    "            applypredicates(predicate,objectsDic,predicates_rules)\n",
    "        else:\n",
    "            if len(predicates)==0:\n",
    "                return False\n",
    "            predicates.append(predicate)\n",
    "    return True"
   ]
  },
  {
   "cell_type": "code",
   "execution_count": 96,
   "metadata": {
    "collapsed": true
   },
   "outputs": [],
   "source": [
    "def solveAllStages(stages,objectsDic,predicates_rules):\n",
    "    result={}\n",
    "    result[\"visualStages\"]=[]\n",
    "    for stage in stages:\n",
    "        stageDic={}\n",
    "        objectDicCopy=copy.deepcopy(objectsDic)\n",
    "        predicates=stage[\"items\"]\n",
    "        solvepredicates(predicates,objectDicCopy,predicates_rules)\n",
    "        stageDic[\"visualSprites\"]=objectDicCopy\n",
    "        result[\"visualStages\"].append(stageDic)\n",
    "    return result"
   ]
  },
  {
   "cell_type": "code",
   "execution_count": 97,
   "metadata": {},
   "outputs": [
    {
     "name": "stdout",
     "output_type": "stream",
     "text": [
      "{'visualStages': [{'visualSprites': {'a': {'prefab': 'Block', 'showName': True, 'x': 0, 'y': 0, 'color': {'r': 1.0, 'g': 0.76, 'b': 0.76, 'a': 1.0}, 'width': 80, 'height': 40, 'name': 'a'}, 'b': {'prefab': 'Block', 'showName': True, 'x': 100, 'y': 0, 'color': {'r': 0.47, 'g': 0.53, 'b': 0.6, 'a': 1.0}, 'width': 80, 'height': 40, 'name': 'b'}, 'c': {'prefab': 'Block', 'showName': True, 'x': 300, 'y': 0, 'color': {'r': 0.94, 'g': 1.0, 'b': 0.94, 'a': 1.0}, 'width': 80, 'height': 40, 'name': 'c'}, 'd': {'prefab': 'Block', 'showName': True, 'x': 300, 'y': 42, 'color': {'r': 1.0, 'g': 0.85, 'b': 0.73, 'a': 1.0}, 'width': 80, 'height': 40, 'name': 'd'}, 'e': {'prefab': 'Block', 'showName': True, 'x': 200, 'y': 0, 'color': {'r': 0.86, 'g': 0.86, 'b': 0.86, 'a': 1.0}, 'width': 80, 'height': 40, 'name': 'e'}, 'Claw': {'name': 'Claw', 'prefab': 'Claw', 'color': {'r': 0.0, 'g': 0.0, 'b': 0.0, 'a': 1.0}, 'showName': False, 'x': 230, 'y': 500, 'width': 80, 'height': 40}}}, {'visualSprites': {'a': {'prefab': 'Block', 'showName': True, 'x': 0, 'y': 0, 'color': {'r': 1.0, 'g': 0.76, 'b': 0.76, 'a': 1.0}, 'width': 80, 'height': 40, 'name': 'a'}, 'b': {'prefab': 'Block', 'showName': True, 'x': 100, 'y': 0, 'color': {'r': 0.47, 'g': 0.53, 'b': 0.6, 'a': 1.0}, 'width': 80, 'height': 40, 'name': 'b'}, 'c': {'prefab': 'Block', 'showName': True, 'x': 300, 'y': 0, 'color': {'r': 0.94, 'g': 1.0, 'b': 0.94, 'a': 1.0}, 'width': 80, 'height': 40, 'name': 'c'}, 'd': {'prefab': 'Block', 'showName': True, 'x': 230, 'y': 480, 'color': {'r': 1.0, 'g': 0.85, 'b': 0.73, 'a': 1.0}, 'width': 80, 'height': 40, 'name': 'd'}, 'e': {'prefab': 'Block', 'showName': True, 'x': 200, 'y': 0, 'color': {'r': 0.86, 'g': 0.86, 'b': 0.86, 'a': 1.0}, 'width': 80, 'height': 40, 'name': 'e'}, 'Claw': {'name': 'Claw', 'prefab': 'Claw', 'color': {'r': 0.0, 'g': 0.0, 'b': 0.0, 'a': 1.0}, 'showName': False, 'x': 230, 'y': 500, 'width': 80, 'height': 40}}}, {'visualSprites': {'a': {'prefab': 'Block', 'showName': True, 'x': 0, 'y': 0, 'color': {'r': 1.0, 'g': 0.76, 'b': 0.76, 'a': 1.0}, 'width': 80, 'height': 40, 'name': 'a'}, 'b': {'prefab': 'Block', 'showName': True, 'x': 100, 'y': 0, 'color': {'r': 0.47, 'g': 0.53, 'b': 0.6, 'a': 1.0}, 'width': 80, 'height': 40, 'name': 'b'}, 'c': {'prefab': 'Block', 'showName': True, 'x': 300, 'y': 0, 'color': {'r': 0.94, 'g': 1.0, 'b': 0.94, 'a': 1.0}, 'width': 80, 'height': 40, 'name': 'c'}, 'd': {'prefab': 'Block', 'showName': True, 'x': 400, 'y': 0, 'color': {'r': 1.0, 'g': 0.85, 'b': 0.73, 'a': 1.0}, 'width': 80, 'height': 40, 'name': 'd'}, 'e': {'prefab': 'Block', 'showName': True, 'x': 200, 'y': 0, 'color': {'r': 0.86, 'g': 0.86, 'b': 0.86, 'a': 1.0}, 'width': 80, 'height': 40, 'name': 'e'}, 'Claw': {'name': 'Claw', 'prefab': 'Claw', 'color': {'r': 0.0, 'g': 0.0, 'b': 0.0, 'a': 1.0}, 'showName': False, 'x': 230, 'y': 500, 'width': 80, 'height': 40}}}, {'visualSprites': {'a': {'prefab': 'Block', 'showName': True, 'x': 0, 'y': 0, 'color': {'r': 1.0, 'g': 0.76, 'b': 0.76, 'a': 1.0}, 'width': 80, 'height': 40, 'name': 'a'}, 'b': {'prefab': 'Block', 'showName': True, 'x': 230, 'y': 480, 'color': {'r': 0.47, 'g': 0.53, 'b': 0.6, 'a': 1.0}, 'width': 80, 'height': 40, 'name': 'b'}, 'c': {'prefab': 'Block', 'showName': True, 'x': 300, 'y': 0, 'color': {'r': 0.94, 'g': 1.0, 'b': 0.94, 'a': 1.0}, 'width': 80, 'height': 40, 'name': 'c'}, 'd': {'prefab': 'Block', 'showName': True, 'x': 400, 'y': 0, 'color': {'r': 1.0, 'g': 0.85, 'b': 0.73, 'a': 1.0}, 'width': 80, 'height': 40, 'name': 'd'}, 'e': {'prefab': 'Block', 'showName': True, 'x': 200, 'y': 0, 'color': {'r': 0.86, 'g': 0.86, 'b': 0.86, 'a': 1.0}, 'width': 80, 'height': 40, 'name': 'e'}, 'Claw': {'name': 'Claw', 'prefab': 'Claw', 'color': {'r': 0.0, 'g': 0.0, 'b': 0.0, 'a': 1.0}, 'showName': False, 'x': 230, 'y': 500, 'width': 80, 'height': 40}}}, {'visualSprites': {'a': {'prefab': 'Block', 'showName': True, 'x': 0, 'y': 0, 'color': {'r': 1.0, 'g': 0.76, 'b': 0.76, 'a': 1.0}, 'width': 80, 'height': 40, 'name': 'a'}, 'b': {'prefab': 'Block', 'showName': True, 'x': 400, 'y': 42, 'color': {'r': 0.47, 'g': 0.53, 'b': 0.6, 'a': 1.0}, 'width': 80, 'height': 40, 'name': 'b'}, 'c': {'prefab': 'Block', 'showName': True, 'x': 300, 'y': 0, 'color': {'r': 0.94, 'g': 1.0, 'b': 0.94, 'a': 1.0}, 'width': 80, 'height': 40, 'name': 'c'}, 'd': {'prefab': 'Block', 'showName': True, 'x': 400, 'y': 0, 'color': {'r': 1.0, 'g': 0.85, 'b': 0.73, 'a': 1.0}, 'width': 80, 'height': 40, 'name': 'd'}, 'e': {'prefab': 'Block', 'showName': True, 'x': 200, 'y': 0, 'color': {'r': 0.86, 'g': 0.86, 'b': 0.86, 'a': 1.0}, 'width': 80, 'height': 40, 'name': 'e'}, 'Claw': {'name': 'Claw', 'prefab': 'Claw', 'color': {'r': 0.0, 'g': 0.0, 'b': 0.0, 'a': 1.0}, 'showName': False, 'x': 230, 'y': 500, 'width': 80, 'height': 40}}}, {'visualSprites': {'a': {'prefab': 'Block', 'showName': True, 'x': 0, 'y': 0, 'color': {'r': 1.0, 'g': 0.76, 'b': 0.76, 'a': 1.0}, 'width': 80, 'height': 40, 'name': 'a'}, 'b': {'prefab': 'Block', 'showName': True, 'x': 400, 'y': 42, 'color': {'r': 0.47, 'g': 0.53, 'b': 0.6, 'a': 1.0}, 'width': 80, 'height': 40, 'name': 'b'}, 'c': {'prefab': 'Block', 'showName': True, 'x': 230, 'y': 480, 'color': {'r': 0.94, 'g': 1.0, 'b': 0.94, 'a': 1.0}, 'width': 80, 'height': 40, 'name': 'c'}, 'd': {'prefab': 'Block', 'showName': True, 'x': 400, 'y': 0, 'color': {'r': 1.0, 'g': 0.85, 'b': 0.73, 'a': 1.0}, 'width': 80, 'height': 40, 'name': 'd'}, 'e': {'prefab': 'Block', 'showName': True, 'x': 200, 'y': 0, 'color': {'r': 0.86, 'g': 0.86, 'b': 0.86, 'a': 1.0}, 'width': 80, 'height': 40, 'name': 'e'}, 'Claw': {'name': 'Claw', 'prefab': 'Claw', 'color': {'r': 0.0, 'g': 0.0, 'b': 0.0, 'a': 1.0}, 'showName': False, 'x': 230, 'y': 500, 'width': 80, 'height': 40}}}, {'visualSprites': {'a': {'prefab': 'Block', 'showName': True, 'x': 0, 'y': 0, 'color': {'r': 1.0, 'g': 0.76, 'b': 0.76, 'a': 1.0}, 'width': 80, 'height': 40, 'name': 'a'}, 'b': {'prefab': 'Block', 'showName': True, 'x': 400, 'y': 42, 'color': {'r': 0.47, 'g': 0.53, 'b': 0.6, 'a': 1.0}, 'width': 80, 'height': 40, 'name': 'b'}, 'c': {'prefab': 'Block', 'showName': True, 'x': 0, 'y': 42, 'color': {'r': 0.94, 'g': 1.0, 'b': 0.94, 'a': 1.0}, 'width': 80, 'height': 40, 'name': 'c'}, 'd': {'prefab': 'Block', 'showName': True, 'x': 400, 'y': 0, 'color': {'r': 1.0, 'g': 0.85, 'b': 0.73, 'a': 1.0}, 'width': 80, 'height': 40, 'name': 'd'}, 'e': {'prefab': 'Block', 'showName': True, 'x': 200, 'y': 0, 'color': {'r': 0.86, 'g': 0.86, 'b': 0.86, 'a': 1.0}, 'width': 80, 'height': 40, 'name': 'e'}, 'Claw': {'name': 'Claw', 'prefab': 'Claw', 'color': {'r': 0.0, 'g': 0.0, 'b': 0.0, 'a': 1.0}, 'showName': False, 'x': 230, 'y': 500, 'width': 80, 'height': 40}}}, {'visualSprites': {'a': {'prefab': 'Block', 'showName': True, 'x': 0, 'y': 0, 'color': {'r': 1.0, 'g': 0.76, 'b': 0.76, 'a': 1.0}, 'width': 80, 'height': 40, 'name': 'a'}, 'b': {'prefab': 'Block', 'showName': True, 'x': 400, 'y': 42, 'color': {'r': 0.47, 'g': 0.53, 'b': 0.6, 'a': 1.0}, 'width': 80, 'height': 40, 'name': 'b'}, 'c': {'prefab': 'Block', 'showName': True, 'x': 0, 'y': 42, 'color': {'r': 0.94, 'g': 1.0, 'b': 0.94, 'a': 1.0}, 'width': 80, 'height': 40, 'name': 'c'}, 'd': {'prefab': 'Block', 'showName': True, 'x': 400, 'y': 0, 'color': {'r': 1.0, 'g': 0.85, 'b': 0.73, 'a': 1.0}, 'width': 80, 'height': 40, 'name': 'd'}, 'e': {'prefab': 'Block', 'showName': True, 'x': 230, 'y': 480, 'color': {'r': 0.86, 'g': 0.86, 'b': 0.86, 'a': 1.0}, 'width': 80, 'height': 40, 'name': 'e'}, 'Claw': {'name': 'Claw', 'prefab': 'Claw', 'color': {'r': 0.0, 'g': 0.0, 'b': 0.0, 'a': 1.0}, 'showName': False, 'x': 230, 'y': 500, 'width': 80, 'height': 40}}}, {'visualSprites': {'a': {'prefab': 'Block', 'showName': True, 'x': 0, 'y': 0, 'color': {'r': 1.0, 'g': 0.76, 'b': 0.76, 'a': 1.0}, 'width': 80, 'height': 40, 'name': 'a'}, 'b': {'prefab': 'Block', 'showName': True, 'x': 400, 'y': 42, 'color': {'r': 0.47, 'g': 0.53, 'b': 0.6, 'a': 1.0}, 'width': 80, 'height': 40, 'name': 'b'}, 'c': {'prefab': 'Block', 'showName': True, 'x': 0, 'y': 42, 'color': {'r': 0.94, 'g': 1.0, 'b': 0.94, 'a': 1.0}, 'width': 80, 'height': 40, 'name': 'c'}, 'd': {'prefab': 'Block', 'showName': True, 'x': 400, 'y': 0, 'color': {'r': 1.0, 'g': 0.85, 'b': 0.73, 'a': 1.0}, 'width': 80, 'height': 40, 'name': 'd'}, 'e': {'prefab': 'Block', 'showName': True, 'x': 0, 'y': 84, 'color': {'r': 0.86, 'g': 0.86, 'b': 0.86, 'a': 1.0}, 'width': 80, 'height': 40, 'name': 'e'}, 'Claw': {'name': 'Claw', 'prefab': 'Claw', 'color': {'r': 0.0, 'g': 0.0, 'b': 0.0, 'a': 1.0}, 'showName': False, 'x': 230, 'y': 500, 'width': 80, 'height': 40}}}]}\n"
     ]
    }
   ],
   "source": [
    "result=solveAllStages(stages,objectsDic,predicates_rules)"
   ]
  },
  {
   "cell_type": "code",
   "execution_count": 98,
   "metadata": {},
   "outputs": [
    {
     "name": "stdout",
     "output_type": "stream",
     "text": [
      "560\n"
     ]
    }
   ],
   "source": [
    "def transfer(oneStep,initialobjects,panelWidth,panelHeight):\n",
    "    # list that stores object name\n",
    "    finalFile = {}\n",
    "    temp = []\n",
    "    # dict that stores new position info\n",
    "    dictX = {\"minX\":\"\",\n",
    "            \"maxX\":\"\",\n",
    "            \"minY\":\"\",\n",
    "            \"maxY\":\"\"}\n",
    "    # new position info\n",
    "    minX = 0.0\n",
    "    maxX = 0.0\n",
    "    minY = 0.0\n",
    "    maxY = 0.0\n",
    "    # generate new json file\n",
    "    for i,object in enumerate(initialobjects):\n",
    "        temp.append(oneStep[object])\n",
    "        # get all information about position\n",
    "        xNum = oneStep[object][\"x\"]\n",
    "        yNum = oneStep[object][\"y\"]\n",
    "        width = oneStep[object][\"width\"]\n",
    "        height = oneStep[object][\"height\"]\n",
    "        # transfer the position info into position needed in Unity\n",
    "        minX = xNum/panelWidth\n",
    "        maxX = (xNum + width)/panelWidth\n",
    "        minY = yNum/panelHeight\n",
    "        maxY = (yNum + height)/panelHeight\n",
    "        dictX[\"minX\"] = round(minX,3)\n",
    "        dictX[\"maxX\"] = round(maxX,3)\n",
    "        dictX[\"minY\"] = round(minY,3)\n",
    "        dictX[\"maxY\"] = round(maxY,3)\n",
    "        # update the old dict\n",
    "        temp[i].update(dictX)\n",
    "        finalFile[\"visualSprites\"] = temp\n",
    "    return finalFile\n",
    "\n",
    "def get_panel_size(result,padding=20):\n",
    "    lists=result[\"visualStages\"]\n",
    "    maxX=0\n",
    "    maxY=0\n",
    "    for stage in lists:\n",
    "        stageitems=stage[\"visualSprites\"]\n",
    "        for item in stageitems:\n",
    "            x=stageitems[item][\"x\"]+stageitems[item][\"width\"]+padding\n",
    "            y=stageitems[item][\"y\"]+stageitems[item][\"height\"]+padding\n",
    "            if x>maxX:\n",
    "                maxX=x\n",
    "            if y>maxY:\n",
    "                maxY=y\n",
    "    return maxX,maxY\n",
    "\n",
    "def generate_visualisation_file(result,objectList):\n",
    "    final = {\"visualStages\":[]}\n",
    "    oneStep = {}\n",
    "    spriteList = []\n",
    "    lists = result[\"visualStages\"]\n",
    "    panelWidth,panelHeight=get_panel_size(result)\n",
    "    print(panelHeight)\n",
    "    for i,step in enumerate(lists):\n",
    "        oneStep = lists[i][\"visualSprites\"]\n",
    "        spriteList.append(transfer(oneStep,objectList,panelWidth,panelHeight))\n",
    "        final[\"visualStages\"] = spriteList\n",
    "\n",
    "    with open('visualisation.json', 'w') as outfile:\n",
    "        json.dump(final, outfile)\n",
    "        \n",
    "generate_visualisation_file(result,list(objectsDic.keys()))"
   ]
  },
  {
   "cell_type": "markdown",
   "metadata": {
    "collapsed": true
   },
   "source": [
    "#### "
   ]
  },
  {
   "cell_type": "code",
   "execution_count": null,
   "metadata": {
    "collapsed": true
   },
   "outputs": [],
   "source": []
  },
  {
   "cell_type": "code",
   "execution_count": null,
   "metadata": {
    "collapsed": true
   },
   "outputs": [],
   "source": []
  },
  {
   "cell_type": "code",
   "execution_count": null,
   "metadata": {
    "collapsed": true
   },
   "outputs": [],
   "source": []
  }
 ],
 "metadata": {
  "kernelspec": {
   "display_name": "Python 3",
   "language": "python",
   "name": "python3"
  },
  "language_info": {
   "codemirror_mode": {
    "name": "ipython",
    "version": 3
   },
   "file_extension": ".py",
   "mimetype": "text/x-python",
   "name": "python",
   "nbconvert_exporter": "python",
   "pygments_lexer": "ipython3",
   "version": "3.6.1"
  }
 },
 "nbformat": 4,
 "nbformat_minor": 2
}
